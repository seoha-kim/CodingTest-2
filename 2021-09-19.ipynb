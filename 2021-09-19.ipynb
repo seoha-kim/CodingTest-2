{
 "cells": [
  {
   "cell_type": "markdown",
   "metadata": {},
   "source": [
    "### 실패율"
   ]
  },
  {
   "cell_type": "code",
   "execution_count": null,
   "metadata": {},
   "outputs": [],
   "source": [
    "def solution(N, stages):\n",
    "    result = {}; total = len(stages)\n",
    "    \n",
    "    for n in range(1,N+1):\n",
    "        count = stages.count(n)\n",
    "        if count == 0:\n",
    "            fail_rate = 0\n",
    "            result[n] = fail_rate\n",
    "            \n",
    "        else:\n",
    "            fail_rate = count/total\n",
    "            result[n] = fail_rate\n",
    "\n",
    "            total -= count\n",
    "    \n",
    "    answer = sorted(result, key=lambda x : result[x], reverse=True)\n",
    "    return answer"
   ]
  },
  {
   "cell_type": "code",
   "execution_count": null,
   "metadata": {},
   "outputs": [],
   "source": [
    "def solution(N, stages):\n",
    "    result = {}\n",
    "    denominator = len(stages)\n",
    "    for stage in range(1, N+1):\n",
    "        if denominator != 0:\n",
    "            count = stages.count(stage)\n",
    "            result[stage] = count / denominator\n",
    "            denominator -= count\n",
    "        else:\n",
    "            result[stage] = 0\n",
    "    return sorted(result, key=lambda x : result[x], reverse=True)"
   ]
  },
  {
   "cell_type": "markdown",
   "metadata": {},
   "source": [
    "### 약수의 개수와 덧셈"
   ]
  },
  {
   "cell_type": "code",
   "execution_count": null,
   "metadata": {},
   "outputs": [],
   "source": [
    "def solution(left, right):\n",
    "    answer = 0\n",
    "    \n",
    "    for x in range(left, right+1):\n",
    "        divisor = 0\n",
    "        for i in range(1,x+1):\n",
    "            if x % i == 0:\n",
    "                divisor += 1\n",
    "        \n",
    "        if divisor % 2 == 0:\n",
    "            answer += x\n",
    "\n",
    "        else:\n",
    "            answer -= x\n",
    "    return answer"
   ]
  },
  {
   "cell_type": "code",
   "execution_count": null,
   "metadata": {},
   "outputs": [],
   "source": [
    "def solution(left, right):\n",
    "    answer = 0\n",
    "    for i in range(left,right+1):\n",
    "        if int(i**0.5)==i**0.5:\n",
    "            answer -= i\n",
    "        else:ㅠㅠㅠ\n",
    "            answer += i\n",
    "    return answer"
   ]
  },
  {
   "cell_type": "markdown",
   "metadata": {},
   "source": [
    "### 3진법 뒤집기"
   ]
  },
  {
   "cell_type": "code",
   "execution_count": null,
   "metadata": {},
   "outputs": [],
   "source": [
    "def solution(n):\n",
    "    q=0; r=0; answer=0;three = []\n",
    "    while True:\n",
    "        q= n//3\n",
    "        r = n%3\n",
    "        three.insert(0,r)\n",
    "        \n",
    "        if q==0:\n",
    "            break\n",
    "        else:\n",
    "            n=q\n",
    "            \n",
    "    for i,x in enumerate(three):\n",
    "        answer += x * 3**i\n",
    "        \n",
    "    return answer"
   ]
  },
  {
   "cell_type": "code",
   "execution_count": null,
   "metadata": {},
   "outputs": [],
   "source": [
    "def solution(n):\n",
    "    tmp = ''\n",
    "    while n:\n",
    "        tmp += str(n % 3)\n",
    "        n = n // 3\n",
    "\n",
    "    answer = int(tmp, 3)\n",
    "    return answer"
   ]
  },
  {
   "cell_type": "markdown",
   "metadata": {},
   "source": [
    "### 두 리스트 합치기"
   ]
  },
  {
   "cell_type": "code",
   "execution_count": null,
   "metadata": {},
   "outputs": [],
   "source": [
    "p1=p2=0; answer=[]\n",
    "while p1<n and p2<m:\n",
    "    if a[p1] <= b[p2]:\n",
    "        answer.append(a[p1])\n",
    "        p1 += 1\n",
    "    else:\n",
    "        answer.append(b[p2])\n",
    "        p2 += 1\n",
    "        \n",
    "if p1 < n:\n",
    "    answer += a[p1:]\n",
    "else:\n",
    "    answer += bb[p2:]"
   ]
  },
  {
   "cell_type": "markdown",
   "metadata": {},
   "source": [
    "### 수의 합"
   ]
  },
  {
   "cell_type": "code",
   "execution_count": null,
   "metadata": {},
   "outputs": [],
   "source": [
    "lt=0; rt=1; total = a[0]; cnt = 0\n",
    "while True:\n",
    "    if (total < m)\n",
    "        if (rt<n):\n",
    "            total += a[rt]\n",
    "            rt += 1\n",
    "        else:\n",
    "            break\n",
    "    elif total == m:\n",
    "            cnt += 1 \n",
    "        total -= a[lt]\n",
    "        lt += 1\n",
    "        \n",
    "    else:\n",
    "        total -= a[lt]\n",
    "        lt += 1"
   ]
  },
  {
   "cell_type": "markdown",
   "metadata": {},
   "source": [
    "### 격자판 최대합"
   ]
  },
  {
   "cell_type": "code",
   "execution_count": null,
   "metadata": {},
   "outputs": [],
   "source": [
    "sum_li = []; _max=0\n",
    "for x in range(5):\n",
    "    sum1=sum2=0\n",
    "    for y in range(5):\n",
    "        sum1+=mat[x][y]\n",
    "        sum2+=mat[y][x]\n",
    "    \n",
    "    if sum1 > _max:\n",
    "        _max = sum1\n",
    "    \n",
    "    if sum2 > _max:\n",
    "        _max = sum2\n",
    "\n",
    "sum1=sum2=0\n",
    "for z in range(5):\n",
    "    sum1 += max[z][4-z]\n",
    "    sum2 += max[4-z][z]"
   ]
  }
 ],
 "metadata": {
  "kernelspec": {
   "display_name": "Python 3",
   "language": "python",
   "name": "python3"
  },
  "language_info": {
   "codemirror_mode": {
    "name": "ipython",
    "version": 3
   },
   "file_extension": ".py",
   "mimetype": "text/x-python",
   "name": "python",
   "nbconvert_exporter": "python",
   "pygments_lexer": "ipython3",
   "version": "3.7.8"
  }
 },
 "nbformat": 4,
 "nbformat_minor": 4
}
