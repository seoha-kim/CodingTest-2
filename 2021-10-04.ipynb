{
 "cells": [
  {
   "cell_type": "markdown",
   "metadata": {},
   "source": [
    "### 가장 큰 수 ⭐️"
   ]
  },
  {
   "cell_type": "code",
   "execution_count": null,
   "metadata": {},
   "outputs": [],
   "source": [
    "num, m = map(int, input().split())\n",
    "num = list(map(int, str(num)))\n",
    "\n",
    "stack = []\n",
    "for x in num:\n",
    "    while stack and m > 0 and stack[-1] < x:\n",
    "        stack.pop()\n",
    "        m -= 1\n",
    "    stack.append(x)\n",
    "    \n",
    "print(''.join(stack[:-m]) if m > 0 else ''.join(stack))"
   ]
  },
  {
   "cell_type": "markdown",
   "metadata": {},
   "source": [
    "### 쇠막대기 ⭐️"
   ]
  },
  {
   "cell_type": "code",
   "execution_count": null,
   "metadata": {},
   "outputs": [],
   "source": [
    "s = input()\n",
    "stack = []\n",
    "cnt = 0\n",
    "\n",
    "for i in range(len(s)):\n",
    "    if s[i] == '(':\n",
    "        stack.append(s[i])\n",
    "    else:\n",
    "        stack.pop()\n",
    "        if s[i-1] == '(':\n",
    "            cnt += len(stack)\n",
    "        else:\n",
    "            cnt += 1"
   ]
  },
  {
   "cell_type": "markdown",
   "metadata": {},
   "source": [
    "### 후위 표기식 만들기 ⭐️"
   ]
  },
  {
   "cell_type": "code",
   "execution_count": null,
   "metadata": {},
   "outputs": [],
   "source": [
    "a = input()\n",
    "stack = []\n",
    "res = ''\n",
    "for x in a:\n",
    "    if x.isdigit():\n",
    "        res += x\n",
    "    else:\n",
    "        if x == '(':\n",
    "            stack.append(x)\n",
    "        elif x == '*' or x == '/':\n",
    "            while stack and (stack[-1]=='*' or stack[-1]=='/'):\n",
    "                res += stack.pop()\n",
    "            stack.append(x)\n",
    "        elif x == '+' or x == '-':\n",
    "            while stack and stack[-1] != '(':\n",
    "                res += stack.pop()\n",
    "            stack.append(x)\n",
    "        elif x == ')':\n",
    "            while stack and stack[-1] != '(':\n",
    "                res += stack.pop()\n",
    "            stack.pop()\n",
    "\n",
    "while stack:\n",
    "    res += stack.pop()"
   ]
  },
  {
   "cell_type": "markdown",
   "metadata": {},
   "source": [
    "### 후위 연산"
   ]
  },
  {
   "cell_type": "code",
   "execution_count": null,
   "metadata": {},
   "outputs": [],
   "source": [
    "a = input()\n",
    "stack = []\n",
    "for x in a:\n",
    "    if x.isdigit():\n",
    "        stack.append(int(x))\n",
    "        \n",
    "    else:\n",
    "        if x == '+':\n",
    "            n1 = stack.pop()\n",
    "            n2 = stack.pop()\n",
    "            stack.append(n2+n1)\n",
    "        elif x == '-'\n",
    "            n1 = stack.pop()\n",
    "            n2 = stack.pop()\n",
    "            stack.append(n2-n1)\n",
    "        elif x == '*'\n",
    "            n1 = stack.pop()\n",
    "            n2 = stack.pop()\n",
    "            stack.append(n2*n1)\n",
    "        elif x == '/'\n",
    "            n1 = stack.pop()\n",
    "            n2 = stack.pop()\n",
    "            stack.append(n2/n1)\n",
    "print(stack[0])"
   ]
  },
  {
   "cell_type": "markdown",
   "metadata": {},
   "source": [
    "###  공주 구하기"
   ]
  },
  {
   "cell_type": "code",
   "execution_count": null,
   "metadata": {},
   "outputs": [],
   "source": [
    "from collections import deque\n",
    "\n",
    "n, k = map(int, input().split())\n",
    "dq = deque(list(range(1, n+1)))\n",
    "\n",
    "while dq:\n",
    "    for _ in range(k-1):\n",
    "        cur = dq.popleft()\n",
    "        dq.append(cur)\n",
    "        \n",
    "    dq.popleft()\n",
    "    if len(dq) == 1:\n",
    "        print(dq[0])\n",
    "        break"
   ]
  },
  {
   "cell_type": "markdown",
   "metadata": {},
   "source": [
    "### 응급실"
   ]
  },
  {
   "cell_type": "code",
   "execution_count": null,
   "metadata": {},
   "outputs": [],
   "source": [
    "from collections import deque\n",
    "\n",
    "n, m = map(int, input().split())\n",
    "Q = deque([(pos, val) for pos, val in enumerate(list(map(int, input().split())))])\n",
    "cnt = 0\n",
    "while True:\n",
    "    cur = Q.popleft()\n",
    "    if cur < any(cur[1]<x[1] for x in Q):\n",
    "        Q.append(cur)\n",
    "    else:\n",
    "        cnt += 1\n",
    "        if cnt[0] == m:\n",
    "            print(cnt)\n",
    "            break\n",
    "    "
   ]
  },
  {
   "cell_type": "markdown",
   "metadata": {},
   "source": [
    "### 교육 과정 설계"
   ]
  },
  {
   "cell_type": "code",
   "execution_count": null,
   "metadata": {},
   "outputs": [],
   "source": [
    "from collections import deque\n",
    "need = input()\n",
    "n = int(input())\n",
    "\n",
    "for i in range(n):\n",
    "    plan = input()\n",
    "    dq = deque(need)\n",
    "    for x in plan:\n",
    "        if x in dq:\n",
    "            if x != dq.popleft():\n",
    "                print('No')\n",
    "    else:\n",
    "        if len(dq) == 0:\n",
    "            print('Yes')"
   ]
  },
  {
   "cell_type": "markdown",
   "metadata": {},
   "source": [
    "### 단어 찾기"
   ]
  },
  {
   "cell_type": "code",
   "execution_count": null,
   "metadata": {},
   "outputs": [],
   "source": [
    "n = int(input())\n",
    "p = dict()\n",
    "for i in range(n):\n",
    "    word = input()\n",
    "    p[word] = 1\n",
    "    \n",
    "for i in range(n-1):\n",
    "    word = input()\n",
    "    p[word] = 0\n",
    "\n",
    "for key, val in p.items():\n",
    "    if val == 1:\n",
    "        print(key)"
   ]
  },
  {
   "cell_type": "markdown",
   "metadata": {},
   "source": [
    "### 아나그램"
   ]
  },
  {
   "cell_type": "code",
   "execution_count": null,
   "metadata": {},
   "outputs": [],
   "source": [
    "a = input()\n",
    "b = input()\n",
    "sh = dict()\n",
    "\n",
    "for x in a:\n",
    "    sh[x] = sh.get(x, 0) + 1\n",
    "    \n",
    "for y in b:\n",
    "    sh[y] = sh.get(y, 0) - 1\n",
    "    \n",
    "for x in a:\n",
    "    if sh.get(x) > 0:\n",
    "        return 'No'\n",
    "        break\n",
    "else:\n",
    "    print('Yes')"
   ]
  },
  {
   "cell_type": "markdown",
   "metadata": {},
   "source": [
    "### 아나그램 리스트"
   ]
  },
  {
   "cell_type": "code",
   "execution_count": null,
   "metadata": {},
   "outputs": [],
   "source": [
    "a = input()\n",
    "b = input()\n",
    "str1 = [0]*52\n",
    "str2 = [0]*52\n",
    "\n",
    "for x in a:\n",
    "    if x.isupper():\n",
    "        str1[ord(x)-65] += 1\n",
    "    else:\n",
    "        str1[ord(x)-71] += 1\n",
    "        \n",
    "for x in b:\n",
    "    if x.isupper():\n",
    "        str2[ord(x)-65] += 1\n",
    "    else:\n",
    "        str2[ord(x)-71] += 1\n",
    "        \n",
    "for i in range(52):\n",
    "    if str1[i] != str2[i]:\n",
    "        print('No')\n",
    "        break\n",
    "else:\n",
    "    print('Yes')"
   ]
  },
  {
   "cell_type": "markdown",
   "metadata": {},
   "source": [
    "### 최소힙"
   ]
  },
  {
   "cell_type": "code",
   "execution_count": null,
   "metadata": {},
   "outputs": [],
   "source": [
    "import heapq as hq\n",
    "\n",
    "a=[]\n",
    "while True:\n",
    "    n = int(input())\n",
    "    if n == -1:\n",
    "        break\n",
    "    if n == 0:\n",
    "        if len(0)==0:\n",
    "            print(-1)\n",
    "        else:\n",
    "            print(hq.heappop(a))\n",
    "    else:\n",
    "        hq.heappush(a, n)"
   ]
  },
  {
   "cell_type": "markdown",
   "metadata": {},
   "source": [
    "### 최대힙"
   ]
  },
  {
   "cell_type": "code",
   "execution_count": null,
   "metadata": {},
   "outputs": [],
   "source": [
    "import heapq as hq\n",
    "a = []\n",
    "while True:\n",
    "    n = int(input()):\n",
    "    if n == -1:\n",
    "        break\n",
    "    if n == 0:\n",
    "        if len(0)==0:\n",
    "            print(-1)\n",
    "        else:\n",
    "            print(-hq.heappop(a))\n",
    "    else:\n",
    "        hq.heappush(a, n)"
   ]
  }
 ],
 "metadata": {
  "kernelspec": {
   "display_name": "Python 3",
   "language": "python",
   "name": "python3"
  },
  "language_info": {
   "codemirror_mode": {
    "name": "ipython",
    "version": 3
   },
   "file_extension": ".py",
   "mimetype": "text/x-python",
   "name": "python",
   "nbconvert_exporter": "python",
   "pygments_lexer": "ipython3",
   "version": "3.7.8"
  }
 },
 "nbformat": 4,
 "nbformat_minor": 4
}
