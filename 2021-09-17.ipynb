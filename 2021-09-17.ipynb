{
 "cells": [
  {
   "cell_type": "markdown",
   "metadata": {},
   "source": [
    "### 모의고사"
   ]
  },
  {
   "cell_type": "code",
   "execution_count": null,
   "metadata": {},
   "outputs": [],
   "source": [
    "def solution(answers):\n",
    "    answer = []\n",
    "    ans1 = 0; ans2= 0; ans3=0\n",
    "    for i, x in enumerate(answers):\n",
    "        num1 = [1,2,3,4,5][i%5]\n",
    "        num2 = [2, 1, 2, 3, 2, 4, 2, 5][i%8]\n",
    "        num3 = [3, 3, 1, 1, 2, 2, 4, 4, 5, 5][i%10]\n",
    "        if x == num1:\n",
    "            ans1 += 1\n",
    "        if x == num2:\n",
    "            ans2 += 1\n",
    "        if x == num3:\n",
    "            ans3 += 1\n",
    "            \n",
    "    ans = [ans1, ans2, ans3]\n",
    "    for i, x in enumerate(ans):\n",
    "        if x == max(ans):\n",
    "            answer.append(i+1)\n",
    "        \n",
    "    return answer"
   ]
  },
  {
   "cell_type": "code",
   "execution_count": null,
   "metadata": {},
   "outputs": [],
   "source": [
    "def solution(answers):\n",
    "    pattern1 = [1,2,3,4,5]\n",
    "    pattern2 = [2,1,2,3,2,4,2,5]\n",
    "    pattern3 = [3,3,1,1,2,2,4,4,5,5]\n",
    "    score = [0, 0, 0]\n",
    "    result = []\n",
    "\n",
    "    for idx, answer in enumerate(answers):\n",
    "        if answer == pattern1[idx%len(pattern1)]:\n",
    "            score[0] += 1\n",
    "        if answer == pattern2[idx%len(pattern2)]:\n",
    "            score[1] += 1\n",
    "        if answer == pattern3[idx%len(pattern3)]:\n",
    "            score[2] += 1\n",
    "\n",
    "    for idx, s in enumerate(score):\n",
    "        if s == max(score):\n",
    "            result.append(idx+1)\n",
    "\n",
    "    return result"
   ]
  },
  {
   "cell_type": "markdown",
   "metadata": {},
   "source": [
    "### 체육복"
   ]
  },
  {
   "cell_type": "code",
   "execution_count": null,
   "metadata": {},
   "outputs": [],
   "source": [
    "def solution(n, lost, reserve):\n",
    "    _reserve = list(set(reserve) - set(lost))\n",
    "    _lost = list(set(lost) - set(reserve))\n",
    "    for r in _reserve:\n",
    "        if r-1 in _lost:\n",
    "            _lost.remove(r-1)\n",
    "        elif r-1 not in _lost and r+1 in _lost:\n",
    "            _lost.remove(r+1)\n",
    "    return n - len(_lost)"
   ]
  },
  {
   "cell_type": "markdown",
   "metadata": {},
   "source": [
    "### 폰켓몬"
   ]
  },
  {
   "cell_type": "code",
   "execution_count": null,
   "metadata": {},
   "outputs": [],
   "source": [
    "def solution(nums):\n",
    "    from collections import Counter\n",
    "    \n",
    "    mon_dic = Counter(nums)\n",
    "    mon_num = len(nums)/2\n",
    "    \n",
    "    return min(mon_num, len(mon_dic.keys()))"
   ]
  },
  {
   "cell_type": "code",
   "execution_count": null,
   "metadata": {},
   "outputs": [],
   "source": [
    "def solution(ls):\n",
    "    return min(len(ls)/2, len(set(ls)))"
   ]
  },
  {
   "cell_type": "markdown",
   "metadata": {},
   "source": [
    "### 회문 문자열 검사"
   ]
  },
  {
   "cell_type": "code",
   "execution_count": null,
   "metadata": {},
   "outputs": [],
   "source": [
    "size = len(string)\n",
    "for j in range(size//2):\n",
    "    if string[j] != string[-(j+1)]:\n",
    "        return 'NO'\n",
    "    return 'YES'"
   ]
  },
  {
   "cell_type": "code",
   "execution_count": null,
   "metadata": {},
   "outputs": [],
   "source": [
    "if string==string[::-1]:\n",
    "    print('YES')\n",
    "else:\n",
    "    print('NO')"
   ]
  },
  {
   "cell_type": "markdown",
   "metadata": {},
   "source": [
    "### 숫자만 추출"
   ]
  },
  {
   "cell_type": "code",
   "execution_count": null,
   "metadata": {},
   "outputs": [],
   "source": [
    "num = ''\n",
    "for x in string:\n",
    "    if x.isdecimal():\n",
    "        num += x\n",
    "print(int(num))"
   ]
  },
  {
   "cell_type": "markdown",
   "metadata": {},
   "source": [
    "### 카드 역배치"
   ]
  },
  {
   "cell_type": "code",
   "execution_count": 20,
   "metadata": {},
   "outputs": [
    {
     "name": "stdout",
     "output_type": "stream",
     "text": [
      "[1, 2, 3, 4, 5, 6, 7, 8, 9, 10, 11, 12, 13, 14, 15, 16, 17, 18, 19, 20]\n",
      "[1, 2, 3, 4, 10, 9, 8, 7, 6, 5, 11, 12, 13, 14, 15, 16, 17, 18, 19, 20]\n",
      "[1, 2, 3, 4, 10, 9, 8, 7, 13, 12, 11, 5, 6, 14, 15, 16, 17, 18, 19, 20]\n"
     ]
    }
   ],
   "source": [
    "card = list(range(1,21))\n",
    "for i in range((b-a+1)//2):\n",
    "    card[a-1+i], card[b-1-i] = card[b-1-i], card[a-1+i]"
   ]
  }
 ],
 "metadata": {
  "kernelspec": {
   "display_name": "Python 3",
   "language": "python",
   "name": "python3"
  },
  "language_info": {
   "codemirror_mode": {
    "name": "ipython",
    "version": 3
   },
   "file_extension": ".py",
   "mimetype": "text/x-python",
   "name": "python",
   "nbconvert_exporter": "python",
   "pygments_lexer": "ipython3",
   "version": "3.7.8"
  }
 },
 "nbformat": 4,
 "nbformat_minor": 4
}
