{
 "cells": [
  {
   "cell_type": "markdown",
   "metadata": {},
   "source": [
    "### 퀵 정렬"
   ]
  },
  {
   "cell_type": "code",
   "execution_count": null,
   "metadata": {},
   "outputs": [],
   "source": [
    "def Qsort(lt, rt):\n",
    "    if lt < rt:\n",
    "        pos = lt\n",
    "        pivot = arr[rt]\n",
    "        for i in range(lt, rt):\n",
    "            if arr[i]<=pivot:\n",
    "                arr[i], arr[pos] = arr[pos], arr[i]\n",
    "                pos += 1\n",
    "        arr[rt], arr[pos] = arr[pos], arr[rt]\n",
    "        Qsort(lt, pos-1)\n",
    "        Qsort(pos+1, rt)\n",
    "        \n",
    "if __name__ == '__main__':\n",
    "    arr = [45, 21, 23, 36, 15, 67, 11, 60, 20, 33]\n",
    "    print('Before sort : ', end='')\n",
    "    print(arr)\n",
    "    Qsort(0, 9)\n",
    "    print('After sort : ', end='')\n",
    "    print(arr)"
   ]
  }
 ],
 "metadata": {
  "kernelspec": {
   "display_name": "Python 3",
   "language": "python",
   "name": "python3"
  },
  "language_info": {
   "codemirror_mode": {
    "name": "ipython",
    "version": 3
   },
   "file_extension": ".py",
   "mimetype": "text/x-python",
   "name": "python",
   "nbconvert_exporter": "python",
   "pygments_lexer": "ipython3",
   "version": "3.7.8"
  }
 },
 "nbformat": 4,
 "nbformat_minor": 4
}
