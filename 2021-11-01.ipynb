{
 "cells": [
  {
   "cell_type": "markdown",
   "metadata": {},
   "source": [
    "### 가방 문제"
   ]
  },
  {
   "cell_type": "code",
   "execution_count": null,
   "metadata": {},
   "outputs": [],
   "source": [
    "import sys\n",
    "sys.stdin = open(\"input.txt\", 'r')    \n",
    "if __name__==\"__main__\":\n",
    "    n, m=map(int, input().split())\n",
    "    dy=[0]*(m+1);\n",
    "    for i in range(n):\n",
    "        w, v=map(int, input().split())\n",
    "        for j in range(w, m+1):\n",
    "            dy[j]=max(dy[j], dy[j-w]+v)\n",
    "    print(dy[m])\n"
   ]
  },
  {
   "cell_type": "markdown",
   "metadata": {},
   "source": [
    "### 동전 문제"
   ]
  },
  {
   "cell_type": "code",
   "execution_count": null,
   "metadata": {},
   "outputs": [],
   "source": [
    "import sys\n",
    "sys.stdin = open(\"input.txt\", 'r')    \n",
    "if __name__==\"__main__\":\n",
    "    n=int(input())\n",
    "    coin=list(map(int, input().split()))\n",
    "    m=int(input())\n",
    "    dy=[1000]*(m+1);\n",
    "    dy[0]=0\n",
    "    for i in range(n):\n",
    "        for j in range(coin[i], m+1):\n",
    "            dy[j]=min(dy[j], dy[j-coin[i]]+1)\n",
    "    print(dy[m])"
   ]
  },
  {
   "cell_type": "markdown",
   "metadata": {},
   "source": [
    "### 최대 점수 구하기"
   ]
  },
  {
   "cell_type": "code",
   "execution_count": null,
   "metadata": {},
   "outputs": [],
   "source": [
    "import sys\n",
    "sys.stdin = open(\"input.txt\", 'r')    \n",
    "if __name__==\"__main__\":\n",
    "    n, m=map(int, input().split())\n",
    "    dy=[0]*(m+1);\n",
    "    for i in range(n):\n",
    "        ps, pt=map(int, input().split())\n",
    "        for j in range(m, pt-1, -1):\n",
    "            dy[j]=max(dy[j], dy[j-pt]+ps)\n",
    "    print(dy[m])\n"
   ]
  },
  {
   "cell_type": "markdown",
   "metadata": {},
   "source": [
    "### 플로이드 와샬"
   ]
  },
  {
   "cell_type": "code",
   "execution_count": null,
   "metadata": {},
   "outputs": [],
   "source": [
    "import sys\n",
    "sys.stdin = open(\"input.txt\", 'r')    \n",
    "if __name__==\"__main__\":\n",
    "    n, m=map(int, input().split())\n",
    "    dis=[[5000]*(n+1) for _ in range(n+1)]\n",
    "    for i in range(1, n+1):\n",
    "        dis[i][i]=0\n",
    "    for i in range(m):\n",
    "        a, b, c=map(int, input().split())\n",
    "        dis[a][b]=c\n",
    "    for k in range(1, n+1):\n",
    "        for i in range(1, n+1):\n",
    "            for j in range(1, n+1):\n",
    "                dis[i][j]=min(dis[i][j], dis[i][k]+dis[k][j])\n",
    "    for i in range(1, n+1):\n",
    "        for j in range(1, n+1):\n",
    "            if dis[i][j]==5000:\n",
    "                print(\"M\", end=' ')\n",
    "            else:\n",
    "                print(dis[i][j], end=' ')\n",
    "        print()"
   ]
  },
  {
   "cell_type": "markdown",
   "metadata": {},
   "source": [
    "### 회장 뽑기"
   ]
  },
  {
   "cell_type": "code",
   "execution_count": null,
   "metadata": {},
   "outputs": [],
   "source": [
    "import sys\n",
    "sys.stdin = open(\"input.txt\", 'r')    \n",
    "if __name__==\"__main__\":\n",
    "    n=int(input())\n",
    "    dis=[[100]*(n+1) for _ in range(n+1)]\n",
    "    for i in range(1, n+1):\n",
    "        dis[i][i]=0\n",
    "    while True:\n",
    "        a, b=map(int, input().split())\n",
    "        if a==-1 and b==-1:\n",
    "            break\n",
    "        dis[a][b]=1\n",
    "        dis[b][a]=1\n",
    "\n",
    "    for k in range(1, n+1):\n",
    "        for i in range(1, n+1):\n",
    "            for j in range(1, n+1):\n",
    "                dis[i][j]=min(dis[i][j], dis[i][k]+dis[k][j])\n",
    "\n",
    "    res=[0]*(n+1)\n",
    "    score=100\n",
    "    for i in range(1, n+1):\n",
    "        for j in range(1, n+1):\n",
    "            res[i]=max(res[i], dis[i][j])\n",
    "        score=min(score, res[i])\n",
    "    out=[]\n",
    "    for i in range(1, n+1):\n",
    "        if res[i]==score:\n",
    "            out.append(i)\n",
    "    print(\"%d %d\" %(score, len(out)))\n",
    "    for x in out:\n",
    "        print(x, end=' ')"
   ]
  },
  {
   "cell_type": "markdown",
   "metadata": {},
   "source": [
    "### 위상 정렬"
   ]
  },
  {
   "cell_type": "code",
   "execution_count": null,
   "metadata": {},
   "outputs": [],
   "source": [
    "import sys\n",
    "from collections import deque\n",
    "sys.stdin=open(\"input.txt\", \"r\")\n",
    "n, m=map(int, input().split())\n",
    "graph=[[0]*(n+1) for _ in range(n+1)]\n",
    "degree=[0]*(n+1)\n",
    "dQ=deque()\n",
    "for i in range(m):\n",
    "    a, b=map(int, input().split())\n",
    "    graph[a][b]=1\n",
    "    degree[b]+=1\n",
    "for i in range(1, n+1):\n",
    "    if degree[i]==0:\n",
    "        dQ.append(i)\n",
    "while dQ:\n",
    "    x=dQ.popleft()\n",
    "    print(x, end=' ')\n",
    "    for i in range(1, n+1):\n",
    "        if graph[x][i]==1:\n",
    "            degree[i]-=1\n",
    "            if degree[i]==0:\n",
    "                dQ.append(i)"
   ]
  }
 ],
 "metadata": {
  "kernelspec": {
   "display_name": "Python 3",
   "language": "python",
   "name": "python3"
  },
  "language_info": {
   "codemirror_mode": {
    "name": "ipython",
    "version": 3
   },
   "file_extension": ".py",
   "mimetype": "text/x-python",
   "name": "python",
   "nbconvert_exporter": "python",
   "pygments_lexer": "ipython3",
   "version": "3.7.8"
  }
 },
 "nbformat": 4,
 "nbformat_minor": 4
}
