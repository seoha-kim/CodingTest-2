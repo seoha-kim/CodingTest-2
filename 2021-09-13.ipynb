{
 "cells": [
  {
   "cell_type": "markdown",
   "metadata": {},
   "source": [
    "### 숫자열과 영단어"
   ]
  },
  {
   "cell_type": "code",
   "execution_count": null,
   "metadata": {},
   "outputs": [],
   "source": [
    "def solution(s):\n",
    "    dict = {'zero':'0',\n",
    "            'one':'1',\n",
    "            'two':'2',\n",
    "            'three':'3',\n",
    "            'four':'4',\n",
    "            'five':'5',\n",
    "            'six':'6',\n",
    "            'seven':'7',\n",
    "            'eight':'8',\n",
    "            'nine':'9',\n",
    "            '0':'0',\n",
    "            '1':'1',\n",
    "            '2':'2',\n",
    "            '3':'3',\n",
    "            '4':'4',\n",
    "            '5':'5',\n",
    "            '6':'6',\n",
    "            '7':'7',\n",
    "            '8':'8',\n",
    "            '9':'9'}\n",
    "    \n",
    "    answer = []\n",
    "    string = []\n",
    "    for x in s:\n",
    "        if x in dict.keys():\n",
    "            answer.append(x)\n",
    "            \n",
    "        else:\n",
    "            string.append(x)\n",
    "            if ''.join(string) in dict.keys():\n",
    "                answer.append(dict[''.join(string)])\n",
    "                string = []\n",
    "    answer = int(''.join(answer))\n",
    "    return answer"
   ]
  },
  {
   "cell_type": "code",
   "execution_count": null,
   "metadata": {},
   "outputs": [],
   "source": [
    "num_dic = {'zero':'0', 'one':'1', 'two':'2', 'three':'3', 'four':'4', 'five':'5', 'six':'6', 'seven':'7', 'eight':'8', 'nine':'9'}\n",
    "\n",
    "def solution(s):\n",
    "    answer = s\n",
    "    for key, value in num_dic.items():\n",
    "        answer = answer.replace(key, value)\n",
    "    return int(answer)"
   ]
  },
  {
   "cell_type": "markdown",
   "metadata": {},
   "source": [
    "### 키패드 누르기"
   ]
  },
  {
   "cell_type": "code",
   "execution_count": null,
   "metadata": {},
   "outputs": [],
   "source": [
    "def solution(numbers, hand):\n",
    "    L = [1,4,7]\n",
    "    R = [3,6,9]\n",
    "    num_dic = {1:[[1,2], [3,2],[4,5],[6,5],[7,8],[9,8],['*',0],['#',0], [2,5],[5,2],[5,8],[8,5],[0,8],[8,0]],\n",
    "               2:[[1,5],[3,5],[4,2],[6,2],[4,8],[6,8],[7,5],[9,5],[7,0],[9,0], ['*',8],[2,8],[8,2],[5,0],[0,5],['#',8]],\n",
    "               3:[[1,8],[3,8],[7,2],[9,2], [4,0], [6,0],['*',5],['#',5],[2,0],[0,2]],\n",
    "               4:[[1,0], [3,0], ['*',2], ['#',2]]}\n",
    "    \n",
    "    answer = []\n",
    "    for x in numbers:\n",
    "        if x in L:\n",
    "            answer.append('L')\n",
    "        elif x in R:\n",
    "            answer.append('R')\n",
    "        else:\n",
    "            if 'L' in answer:\n",
    "                now_l = numbers[len(answer)-answer[::-1].index('L')-1]\n",
    "            else:\n",
    "                now_l = '*'\n",
    "                \n",
    "            if 'R' in answer:\n",
    "                now_r = numbers[len(answer)-answer[::-1].index('R')-1]\n",
    "            else:\n",
    "                now_r = '#'\n",
    "                \n",
    "            l_dif = 0; r_dif = 0\n",
    "            for key, value in num_dic.items():\n",
    "                if [now_l, x] in value:\n",
    "                    l_dif = key\n",
    "                \n",
    "                if [now_r, x] in value:\n",
    "                    r_dif = key\n",
    "            \n",
    "            if l_dif < r_dif:\n",
    "                answer.append('L')\n",
    "            elif l_dif > r_dif:\n",
    "                answer.append('R')\n",
    "            else:\n",
    "                if hand =='left':\n",
    "                    answer.append('L')\n",
    "                elif hand=='right':\n",
    "                    answer.append('R')\n",
    "                    \n",
    "    answer = ''.join(answer)\n",
    "    return answer"
   ]
  },
  {
   "cell_type": "code",
   "execution_count": null,
   "metadata": {},
   "outputs": [],
   "source": [
    "def solution(numbers,hand):\n",
    "    answer = ''\n",
    "    key_dict = {1:(0,0), 2:(0,1), 3:(0,2),\n",
    "                4:(1,0), 5:(1,1), 6:(1,2),\n",
    "                7:(2,0), 8:(2,1), 9:(2,2),\n",
    "                '*':(3,0), 0:(3,1), '#':(3,2)}\n",
    "    left = [1,4,7]\n",
    "    right = [3,6,9]\n",
    "    lhand = '*'\n",
    "    rhand = '#'\n",
    "    for i in numbers:\n",
    "        if i in left:\n",
    "            answer += 'L'\n",
    "            lhand = i\n",
    "        elif i in right:\n",
    "            rhand += 'R'\n",
    "            rhand = i\n",
    "            \n",
    "        else:\n",
    "            curPos = key_dict[i]\n",
    "            lPos = key_dict[lhand]\n",
    "            rPos = key_dict[rhand]\n",
    "            ldist = abs(curPos[0]-lPos[0]) + abs(curPos[1]-lPos[1])\n",
    "            rdist = abs(curPos[0]-rPos[0]) + abs(curPos[1]-rPos[1])\n",
    "            \n",
    "            if ldist < rdist:\n",
    "                answer += 'L'\n",
    "                lhand = i\n",
    "            elif ldist > rdist:\n",
    "                answer += 'R'\n",
    "                rhand = i\n",
    "            else:\n",
    "                if hand=='left':\n",
    "                    answer += 'L'\n",
    "                    lhand = i\n",
    "                else:\n",
    "                    answer += 'R'\n",
    "                    rhand = i\n",
    "\n",
    "    return answer"
   ]
  },
  {
   "cell_type": "markdown",
   "metadata": {},
   "source": [
    "### 크레인 인형뽑기 게임"
   ]
  },
  {
   "cell_type": "code",
   "execution_count": null,
   "metadata": {},
   "outputs": [],
   "source": [
    "def solution(board, moves):\n",
    "    doll = []\n",
    "    answer = 0\n",
    "    for move in moves:\n",
    "        for j in range(len(board)):\n",
    "            if board[j][move-1] != 0:\n",
    "                doll.append(board[j][move-1])\n",
    "                board[j][move-1] = 0\n",
    "            \n",
    "                if (len(doll) > 1) and (doll[-1] == doll[-2]):\n",
    "                    doll.pop()\n",
    "                    doll.pop()\n",
    "                    answer += 2\n",
    "                    \n",
    "                break\n",
    "                \n",
    "    return answer"
   ]
  },
  {
   "cell_type": "markdown",
   "metadata": {},
   "source": [
    "### 최솟값 구하기"
   ]
  },
  {
   "cell_type": "code",
   "execution_count": null,
   "metadata": {},
   "outputs": [],
   "source": [
    "arr = [5,3,7,9,2,5,2,6]\n",
    "arrMin = float('inf')\n",
    "\n",
    "for x in arr:\n",
    "    if x < arrMin:\n",
    "        arrMin = x"
   ]
  },
  {
   "cell_type": "markdown",
   "metadata": {},
   "source": [
    "### 대푯값 구하기"
   ]
  },
  {
   "cell_type": "code",
   "execution_count": null,
   "metadata": {},
   "outputs": [],
   "source": [
    "mean = 0\n",
    "for i,x in enumerate(array):\n",
    "    mean += x\n",
    "    \n",
    "mean = int(x/len(array))\n",
    "\n",
    "res = float('inf')\n",
    "sol = 0\n",
    "for i,x in enumerate(array):\n",
    "    if abs(mean-x) < res:\n",
    "        res = abs(mean-x)\n",
    "        score = x\n",
    "        sol = i+1\n",
    "        \n",
    "    elif abs(mean-x) == res:\n",
    "        if x > score:\n",
    "            score = x\n",
    "            sol = i+1\n",
    "\n",
    "print(mean, sol)"
   ]
  },
  {
   "cell_type": "markdown",
   "metadata": {},
   "source": [
    "### 정다면체"
   ]
  },
  {
   "cell_type": "code",
   "execution_count": null,
   "metadata": {},
   "outputs": [],
   "source": [
    "sol = set()\n",
    "for i in range(1,n+1):\n",
    "    for j in range(1,m+1):\n",
    "        sol.add(i+j)\n",
    "            \n",
    "dic = [x:0 for x in sol]\n",
    "\n",
    "for i in range(1,n+1:\n",
    "    for j in range(1, m+1):\n",
    "        dic[i+j] += 1\n",
    "        \n",
    "for key, value in dic.items():\n",
    "        if value == max(dic.values()):\n",
    "            print(key)"
   ]
  },
  {
   "cell_type": "code",
   "execution_count": null,
   "metadata": {},
   "outputs": [],
   "source": [
    "cnt = [0]*(n+m)\n",
    "max = 0\n",
    "for i in range(1, n+1):\n",
    "    for j in range(1, m+1):\n",
    "        cnt[i+j] += 1\n",
    "\n",
    "for i in range(n+m+1):\n",
    "    if cnt[i] > max:\n",
    "        max = cnt[i]\n",
    "        \n",
    "for i in range(n+m+1):\n",
    "    if cnt[i] == max:\n",
    "        print(i)"
   ]
  },
  {
   "cell_type": "markdown",
   "metadata": {},
   "source": [
    "### 자릿수의 합"
   ]
  },
  {
   "cell_type": "code",
   "execution_count": null,
   "metadata": {},
   "outputs": [],
   "source": [
    "def digit_sum(array):\n",
    "    li = {}; tmp = 0; max = 0\n",
    "    for x in array:\n",
    "        for y in x:\n",
    "            tmp += y\n",
    "        li[x] = tmp\n",
    "        \n",
    "    for key, value in li.items():\n",
    "        if value > max:\n",
    "            max = value\n",
    "            max_k = "
   ]
  }
 ],
 "metadata": {
  "kernelspec": {
   "display_name": "Python 3",
   "language": "python",
   "name": "python3"
  },
  "language_info": {
   "codemirror_mode": {
    "name": "ipython",
    "version": 3
   },
   "file_extension": ".py",
   "mimetype": "text/x-python",
   "name": "python",
   "nbconvert_exporter": "python",
   "pygments_lexer": "ipython3",
   "version": "3.7.8"
  }
 },
 "nbformat": 4,
 "nbformat_minor": 4
}
