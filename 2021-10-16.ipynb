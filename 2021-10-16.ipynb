{
 "cells": [
  {
   "cell_type": "markdown",
   "metadata": {},
   "source": [
    "### 안전 영역"
   ]
  },
  {
   "cell_type": "code",
   "execution_count": null,
   "metadata": {},
   "outputs": [],
   "source": [
    "dx = [-1, 0, 1, 0]\n",
    "dy = [0, 1, 0, -1]\n",
    "\n",
    "def DFS(x, y, h):\n",
    "    ch[x][y] = 1\n",
    "    for i in range(4):\n",
    "        xx = x+dx[i]\n",
    "        yy = y+dy[i]\n",
    "        if 0 <= xx < n and 0<= yy <n and ch[xx][yy]==0 and board[xx][yy]>h:\n",
    "            DFS(xx, yy, h)\n",
    "\n",
    "if __name__ == '__main__':\n",
    "    n = int(input())\n",
    "    cnt = 0\n",
    "    res = 0\n",
    "    board = [list(map(int, input().split())) for _ in range(n)]\n",
    "    for h in range(100):\n",
    "        ch = [[0]*n for _ in range(n)]\n",
    "        cnt = 0\n",
    "        for i in range(n):\n",
    "            for j in range(n):\n",
    "                if ch[i][j] == 0 and board[i][j] > h:\n",
    "                    cnt += 1\n",
    "                    DFS(i, j, h)\n",
    "            res=max(res, cnt)"
   ]
  },
  {
   "cell_type": "markdown",
   "metadata": {},
   "source": [
    "### 토마토"
   ]
  },
  {
   "cell_type": "code",
   "execution_count": null,
   "metadata": {},
   "outputs": [],
   "source": [
    "from collections import deque\n",
    "\n",
    "dx = [-1, 0, 1, 0]\n",
    "dy = [0, 1, 0, -1]\n",
    "n, m =map(int, input().split())\n",
    "board = [list(map(int, input().split())) for _ in range(m)]\n",
    "Q=deque()\n",
    "dis=[[0]*n for _ in range(m)]\n",
    "\n",
    "for i in range(m):\n",
    "    for j in range(n):\n",
    "        if board[i][j]==1:\n",
    "            Q.append((i,j))\n",
    "            \n",
    "while Q:\n",
    "    tmp = Q.popleft()\n",
    "    for i in range(4):\n",
    "        xx = tmp[0]+dx[i]\n",
    "        yy = tmp[1]+dy[i]\n",
    "        if = 0<=xx<m and 0<=yy<n and board[xx][yy]==0:\n",
    "            board[xx][yy]=1\n",
    "            dis[xx][yy] = dis[tmp[0]][tmp[1]]+1\n",
    "            Q.append((xx,yy))\n",
    "            \n",
    "flag=1\n",
    "for i in range(m):\n",
    "    for j in range(n):\n",
    "        if board[i][j] == 0:\n",
    "            flag=0\n",
    "\n",
    "result=0\n",
    "if flag==1:\n",
    "    for i in range(m):\n",
    "        for j in range(n):\n",
    "            if dis[i][j] > result:\n",
    "                result=dis[i][j]\n",
    "    print(result)\n",
    "else:\n",
    "    print(-1)"
   ]
  },
  {
   "cell_type": "markdown",
   "metadata": {},
   "source": [
    "### 사다리 타기"
   ]
  },
  {
   "cell_type": "code",
   "execution_count": null,
   "metadata": {},
   "outputs": [],
   "source": [
    "if __name__ == '__main__':\n",
    "    board = [list(map(int, input().split())) for _ in range(10)]\n",
    "    ch = [[0]*10 for _ in range(10)]\n",
    "    for y in range(10):\n",
    "        if board[9][y]==2:"
   ]
  }
 ],
 "metadata": {
  "kernelspec": {
   "display_name": "Python 3",
   "language": "python",
   "name": "python3"
  },
  "language_info": {
   "codemirror_mode": {
    "name": "ipython",
    "version": 3
   },
   "file_extension": ".py",
   "mimetype": "text/x-python",
   "name": "python",
   "nbconvert_exporter": "python",
   "pygments_lexer": "ipython3",
   "version": "3.7.8"
  }
 },
 "nbformat": 4,
 "nbformat_minor": 4
}
