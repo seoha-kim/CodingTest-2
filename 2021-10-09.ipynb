{
 "cells": [
  {
   "cell_type": "markdown",
   "metadata": {},
   "source": [
    "### 부분집합 구하기"
   ]
  },
  {
   "cell_type": "code",
   "execution_count": null,
   "metadata": {},
   "outputs": [],
   "source": [
    "def DFS(v):\n",
    "    if v == n+1:\n",
    "        for i in range(1, n+1):\n",
    "            if ch[i] == 1:\n",
    "                print(i, end=' ')\n",
    "        print()\n",
    "    else:\n",
    "        ch[v]=1\n",
    "        DFS(v+1)\n",
    "        ch[v]=0\n",
    "        DFS(v+1)\n",
    "\n",
    "if __name__ == '__main__':\n",
    "    n = int(input())\n",
    "    ch = [0]*(n+1)\n",
    "    DFS(1)"
   ]
  },
  {
   "cell_type": "markdown",
   "metadata": {},
   "source": [
    "### 합이 같은 부분집합"
   ]
  },
  {
   "cell_type": "code",
   "execution_count": null,
   "metadata": {},
   "outputs": [],
   "source": [
    "def DFS(L, sum):\n",
    "    if sum > total // 2:\n",
    "        return\n",
    "    if L == n:\n",
    "        if sum == (total-sum):\n",
    "            print('YES')\n",
    "            sys.exit(0)\n",
    "    else:\n",
    "        DFS(L+1, sum+a[L])\n",
    "        DFS(L+1, sum)\n",
    "\n",
    "if __name__ == '__main__':\n",
    "    n = int(input())\n",
    "    a = list(map(int, input().split()))\n",
    "    total = sum(a)\n",
    "    DFS(0, 0)\n",
    "    print('NO')"
   ]
  },
  {
   "cell_type": "markdown",
   "metadata": {},
   "source": [
    "### 바둑이 승차"
   ]
  },
  {
   "cell_type": "code",
   "execution_count": null,
   "metadata": {},
   "outputs": [],
   "source": [
    "def DFS(L, sum, tsum):\n",
    "    global result\n",
    "    if sum+(total-tsum) < result:\n",
    "        return\n",
    "    if sum>c:\n",
    "        return\n",
    "    if L==n:\n",
    "        if sum>result:\n",
    "            result=sum\n",
    "    else:\n",
    "        DFS(L+1, sum+a[L], tsum+a[L])\n",
    "        DFS(L+1, sum, tsum+a[L])\n",
    "        \n",
    "if __name__ == '__main__':\n",
    "    c, n = map(int, input().split())\n",
    "    a = [0]*n\n",
    "    result = -9999\n",
    "    for i in range(n):\n",
    "        a[i] = int(input())\n",
    "    DFS(0, 0, 0)\n",
    "    print(result)"
   ]
  },
  {
   "cell_type": "markdown",
   "metadata": {},
   "source": [
    "### 중복 순열 구하기"
   ]
  },
  {
   "cell_type": "code",
   "execution_count": null,
   "metadata": {},
   "outputs": [],
   "source": [
    "def DFS(L):\n",
    "    if L == m:\n",
    "        for j in range(m):\n",
    "            print(res[j], end=' ')\n",
    "        print()\n",
    "        cnt += 1\n",
    "    \n",
    "    else:\n",
    "        for i in range(1, n+1):\n",
    "            res[L]=i\n",
    "            DDFS"
   ]
  }
 ],
 "metadata": {
  "kernelspec": {
   "display_name": "Python 3",
   "language": "python",
   "name": "python3"
  },
  "language_info": {
   "codemirror_mode": {
    "name": "ipython",
    "version": 3
   },
   "file_extension": ".py",
   "mimetype": "text/x-python",
   "name": "python",
   "nbconvert_exporter": "python",
   "pygments_lexer": "ipython3",
   "version": "3.7.8"
  }
 },
 "nbformat": 4,
 "nbformat_minor": 4
}
