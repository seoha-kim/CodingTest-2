{
 "cells": [
  {
   "cell_type": "markdown",
   "metadata": {},
   "source": [
    "### 동전 교환"
   ]
  },
  {
   "cell_type": "code",
   "execution_count": null,
   "metadata": {},
   "outputs": [],
   "source": [
    "def DFS(L, sum):\n",
    "    global res\n",
    "    if L > res:\n",
    "        return\n",
    "    if sum>m:\n",
    "        return\n",
    "    if sum==m:\n",
    "        if L<res:\n",
    "            res=L\n",
    "    else:\n",
    "        for i in range(n):\n",
    "            DFS(L+1, sum+a[i])\n",
    "\n",
    "if __name__ == '__main__':\n",
    "    n = int(input())\n",
    "    a = list(map(int, input().split()))\n",
    "    m = int(input())\n",
    "    \n",
    "    res = 99999\n",
    "    a.sort(reverse=True)\n",
    "    DFS(0,0)"
   ]
  },
  {
   "cell_type": "markdown",
   "metadata": {},
   "source": [
    "### 순열 구하기"
   ]
  },
  {
   "cell_type": "code",
   "execution_count": null,
   "metadata": {},
   "outputs": [],
   "source": [
    "def DFS(L):\n",
    "    global cnt\n",
    "    if L == m:\n",
    "        for j in range(L):\n",
    "            print(res[j], end=' ')\n",
    "        print()\n",
    "        cnt += 1\n",
    "    else:\n",
    "        for i in range(1, n+1):\n",
    "            if ch[i]==0:\n",
    "                ch[i]=1\n",
    "                res(L)=i\n",
    "                DFS(L+1)\n",
    "                ch[i] = 0\n",
    "                \n",
    "if __name__ == '__main__':\n",
    "    n, m = map(int, input().split())\n",
    "    res = [0]*n\n",
    "    ch = [0]*(n+1)\n",
    "    cnt = 0\n",
    "    DFS(0)\n",
    "    print(cnt)"
   ]
  },
  {
   "cell_type": "markdown",
   "metadata": {},
   "source": [
    "### 수열 추측하기"
   ]
  },
  {
   "cell_type": "code",
   "execution_count": null,
   "metadata": {},
   "outputs": [],
   "source": [
    "import sys\n",
    "\n",
    "def DFS(L, sum):\n",
    "    if L == n and sum ==f:\n",
    "        for x in p:\n",
    "            print(x, end=' ')\n",
    "        sys.exit(0)\n",
    "    else:\n",
    "        for i in range(1, n+1):\n",
    "            if ch[i] == 0:\n",
    "                ch[i] = 1\n",
    "                p[L] = i\n",
    "                DFS(L+1, sum+(P(L)*b[L]))\n",
    "                ch[i]=0\n",
    "\n",
    "if __name__ == \"__main__\":\n",
    "    n, f = map(int, input().split())\n",
    "    p = [0]*n\n",
    "    b = [1]*n\n",
    "    ch = [0]*(n+1)\n",
    "    \n",
    "    for i in range(1, n):\n",
    "        b[i] = b[i-1]*(n-i)//i\n",
    "    DFS(0,0)"
   ]
  },
  {
   "cell_type": "markdown",
   "metadata": {},
   "source": [
    "### 조합 구하기"
   ]
  },
  {
   "cell_type": "code",
   "execution_count": null,
   "metadata": {},
   "outputs": [],
   "source": [
    "import sys\n",
    "def DFS(L, s):\n",
    "    global cnt\n",
    "    if L == m:\n",
    "        for j in range(L):\n",
    "            print(res[j], end=' ')\n",
    "        cnt += 1\n",
    "        print()\n",
    "    else:\n",
    "        for i in range(s, n+1):\n",
    "            res[L] = i\n",
    "            DFS(L+1, i+1)\n",
    "\n",
    "if __name__ == '__main__':\n",
    "    n, m = map(int, input().split())\n",
    "    res = [0]*(n+1)\n",
    "    cnt = 0\n",
    "    DFS(0, 1)\n",
    "    print(cnt)"
   ]
  },
  {
   "cell_type": "markdown",
   "metadata": {},
   "source": [
    "### 수들의 조합"
   ]
  },
  {
   "cell_type": "code",
   "execution_count": null,
   "metadata": {},
   "outputs": [],
   "source": [
    "def DFS(L, s, sum):\n",
    "    global cnt\n",
    "    if L == k:\n",
    "        if sum % m ==0:\n",
    "            cnt += 1\n",
    "    else:\n",
    "        for i in range(s, n):\n",
    "            DFS(L+1, i+1, sum+a[i])\n",
    "\n",
    "if __name__ == '__main__':\n",
    "    n, k = map(int, input().split())\n",
    "    a = list(map(int, input().split()))\n",
    "    m = int(input())\n",
    "    \n",
    "    cnt = 0\n",
    "    DFS(0, 0, 0)\n",
    "    print(cnt)"
   ]
  },
  {
   "cell_type": "markdown",
   "metadata": {},
   "source": [
    "### 라이브러리를 이용한 순열"
   ]
  },
  {
   "cell_type": "code",
   "execution_count": null,
   "metadata": {},
   "outputs": [],
   "source": [
    "import itertools as it\n",
    "\n",
    "n, f = map(int, input().split())\n",
    "b = [1]*n\n",
    "cnt = 0\n",
    "\n",
    "for i in range(1, n):\n",
    "    b[i] = b[i-1]*(n-i)//i\n",
    "a = list(range(1, n+1))\n",
    "for tmp in it.permutations(a):\n",
    "    sum = 0\n",
    "    for L, x in enumerate(tmp):\n",
    "        sum += (x*b[L])\n",
    "    if sum == f:\n",
    "        for x in tmp:\n",
    "            print(x, end=' ')\n",
    "        break"
   ]
  },
  {
   "cell_type": "markdown",
   "metadata": {},
   "source": [
    "### 인접 행렬"
   ]
  },
  {
   "cell_type": "code",
   "execution_count": null,
   "metadata": {},
   "outputs": [],
   "source": [
    "import sys\n",
    "\n",
    "n, m = map(int, input().split())\n",
    "g = [[0]*(n+1) for _ in range(n+1)]\n",
    "for i in range(m):\n",
    "    a, b, c = map(int, input().split())\n",
    "    g[a][b] = c\n",
    "\n",
    "for i in range(1, n+1):\n",
    "    for j in range(1, n+1):\n",
    "        print(g[i][j], end=' ')\n",
    "    print()"
   ]
  },
  {
   "cell_type": "markdown",
   "metadata": {},
   "source": [
    "### 경로 탐색"
   ]
  },
  {
   "cell_type": "code",
   "execution_count": null,
   "metadata": {},
   "outputs": [],
   "source": [
    "def DFS(v):\n",
    "    global cnt\n",
    "    if v == n:\n",
    "        cnt += 1\n",
    "    else:\n",
    "        for i in range(1, n+1):\n",
    "            if g[v][i] == 1 and ch[i] == 0:\n",
    "                ch[i]= 0\n",
    "                DFS(i)\n",
    "                ch[i] = 0\n",
    "\n",
    "if __name__ == '__main__':\n",
    "    n, m = map(int, input().split())\n",
    "    g=[[0]*(n+1) for _ in range(n+1)]\n",
    "    ch=[0]*(n+1)\n",
    "    for i in range(m):\n",
    "        a, b = map(int, input().split())\n",
    "        g[a][b] = 1\n",
    "    cnt = 0\n",
    "    ch[1] = 1\n",
    "    DFS(1)\n",
    "    print(cnt)"
   ]
  }
 ],
 "metadata": {
  "kernelspec": {
   "display_name": "Python 3",
   "language": "python",
   "name": "python3"
  },
  "language_info": {
   "codemirror_mode": {
    "name": "ipython",
    "version": 3
   },
   "file_extension": ".py",
   "mimetype": "text/x-python",
   "name": "python",
   "nbconvert_exporter": "python",
   "pygments_lexer": "ipython3",
   "version": "3.7.8"
  }
 },
 "nbformat": 4,
 "nbformat_minor": 4
}
