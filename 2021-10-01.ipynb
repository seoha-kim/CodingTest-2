{
 "cells": [
  {
   "cell_type": "markdown",
   "metadata": {},
   "source": [
    "### 이분 검색"
   ]
  },
  {
   "cell_type": "code",
   "execution_count": null,
   "metadata": {},
   "outputs": [],
   "source": [
    "li.sort()\n",
    "li.index(n)"
   ]
  },
  {
   "cell_type": "code",
   "execution_count": null,
   "metadata": {},
   "outputs": [],
   "source": [
    "a.sort()\n",
    "lt = 0; rt = n-1\n",
    "while lt <= rt:\n",
    "    mid = (lt+rt)//2\n",
    "    if a[mid] == m:\n",
    "        print(mid+1)\n",
    "        break\n",
    "    elif a[mid] > m:\n",
    "        rt = mid -1\n",
    "    else:\n",
    "        lt = mid + 1"
   ]
  },
  {
   "cell_type": "markdown",
   "metadata": {},
   "source": [
    "### 랜선 자르기"
   ]
  },
  {
   "cell_type": "code",
   "execution_count": null,
   "metadata": {},
   "outputs": [],
   "source": [
    "k, n = map(int, input().split())\n",
    "line = []\n",
    "res = 0\n",
    "largest = 0\n",
    "for i in range(k):\n",
    "    tmp = int(input())\n",
    "    line.append(tmp)\n",
    "    largest = max(largest, tmp)\n",
    "    \n",
    "def Count(leng):\n",
    "    cnt = 0\n",
    "    for x in line:\n",
    "        cnt += (x//leng)\n",
    "    return cnt\n",
    "    \n",
    "lt = 1; rt = largest\n",
    "while lt <= rt:\n",
    "    mid = (lt+rt)/2\n",
    "    if Count(mid)  >= n:\n",
    "        res = mid\n",
    "        lt = mid + 1\n",
    "    else:\n",
    "        rt = mid - 1"
   ]
  },
  {
   "cell_type": "markdown",
   "metadata": {},
   "source": [
    "### 뮤직 비디오"
   ]
  },
  {
   "cell_type": "code",
   "execution_count": null,
   "metadata": {},
   "outputs": [],
   "source": [
    "lt = 1; rt = max(li)\n",
    "n, m  = map(int, input().split())\n",
    "\n",
    "Music = list(map(int, input().split()))\n",
    "lt = 1; rt = sum(Music); res = 0\n",
    "\n",
    "def Count(capacity):\n",
    "    cnt =1; _sum = 0\n",
    "    for x in Music:\n",
    "        if _sum+x > capacity:\n",
    "            cnt += 1\n",
    "            _sum = x\n",
    "        else:\n",
    "            _sum += x\n",
    "            \n",
    "    return cnt\n",
    "\n",
    "while lt <= rt:\n",
    "    mid = (lt+rt)//2\n",
    "    if mid >= max(Music) and Count(mid) <= m:\n",
    "        res = mid\n",
    "        rt = mid-1\n",
    "    else:\n",
    "        lt = mid+1"
   ]
  },
  {
   "cell_type": "markdown",
   "metadata": {},
   "source": [
    "### 마굿간 정하기"
   ]
  },
  {
   "cell_type": "code",
   "execution_count": null,
   "metadata": {},
   "outputs": [],
   "source": [
    "lt=min(li); rt=max(li)\n",
    "n,c=map(int, input().split())\n",
    "line = []\n",
    "for _ in range(n):\n",
    "    tmp = int(input())\n",
    "    line.append(tmp)\n",
    "\n",
    "def Count(leng):\n",
    "    cnt = 1; end = line[0]\n",
    "    for i in range(1, n):\n",
    "        if line[i] - end >= leng:\n",
    "            end = line[i]\n",
    "            cnt += 1\n",
    "    return cnt\n",
    "    \n",
    "line.sort()\n",
    "lt=1; rt=line[n-1]\n",
    "while lt <= rt:\n",
    "    mid = (lt+rt) // 2\n",
    "    if Count(mid) >= c:\n",
    "        res = mid\n",
    "        rt = mid-1\n",
    "    else:\n",
    "        lt = mid+1"
   ]
  },
  {
   "cell_type": "markdown",
   "metadata": {},
   "source": [
    "### 회의실 배정"
   ]
  },
  {
   "cell_type": "code",
   "execution_count": null,
   "metadata": {},
   "outputs": [],
   "source": [
    "n  int(input())\n",
    "meeting = []\n",
    "for i in range(n):\n",
    "    s, e = map(int, input().split())\n",
    "    meeting.append((s,e))\n",
    "    \n",
    "meeting.sort(key=lambda x: (x[1],x[0]))\n",
    "end = 0; cnt = 0\n",
    "for s,e in meeting:\n",
    "    if s >= end:\n",
    "        cnt += 1\n",
    "        end = e\n",
    "    \n",
    "return cnt"
   ]
  },
  {
   "cell_type": "markdown",
   "metadata": {},
   "source": [
    "### 씨름 선수"
   ]
  },
  {
   "cell_type": "code",
   "execution_count": null,
   "metadata": {},
   "outputs": [],
   "source": [
    "n = int(input())\n",
    "body = []\n",
    "for i in rangE(n):\n",
    "    a, b = map(int, input().split())\n",
    "    body.append((a,b))\n",
    "    \n",
    "body.sort(reverse=True)\n",
    "largest = 0; cnt = 0\n",
    "for h, w in body:\n",
    "    if w > largest:\n",
    "        cnt += 1\n",
    "        largest = w"
   ]
  },
  {
   "cell_type": "markdown",
   "metadata": {},
   "source": [
    "### 창고 정리"
   ]
  },
  {
   "cell_type": "code",
   "execution_count": null,
   "metadata": {},
   "outputs": [],
   "source": [
    "l = int(input())\n",
    "a = list(map(int, input().split()))\n",
    "m = int(input())\n",
    "\n",
    "a.sort()\n",
    "for _ in range(m):\n",
    "    a[0] += 1; a[-1] -= 1\n",
    "    a.sort()\n",
    "    \n",
    "print(a[-1]-a[0])"
   ]
  },
  {
   "cell_type": "markdown",
   "metadata": {},
   "source": [
    "### 침몰하는 타이타닉"
   ]
  },
  {
   "cell_type": "code",
   "execution_count": null,
   "metadata": {},
   "outputs": [],
   "source": [
    "from collections import deque\n",
    "\n",
    "n, limit = map(int, input().split())\n",
    "p=list(map(int, input().split()))\n",
    "p=deque()\n",
    "p.sort()\n",
    "cnt = 0 \n",
    "while p:\n",
    "    if len(p) == 1:\n",
    "        cnt += 1\n",
    "        break\n",
    "    \n",
    "    if p[0] + p [-1] <= limit:\n",
    "        p.popleft()\n",
    "        p.pop()\n",
    "        cnt += 1\n",
    "    else:\n",
    "        p.pop()\n",
    "        cnt += 1\n"
   ]
  },
  {
   "cell_type": "markdown",
   "metadata": {},
   "source": [
    "### 증가 수열 만들기"
   ]
  },
  {
   "cell_type": "code",
   "execution_count": null,
   "metadata": {},
   "outputs": [],
   "source": [
    "from collections import deque\n",
    "\n",
    "lt=0; rt=n-1\n",
    "last=0\n",
    "res=\"\"\n",
    "tmp=[]\n",
    "\n",
    "while lt<=rt:\n",
    "    if a[lt] > last:\n",
    "        tmp.append((a[lt], 'L'))\n",
    "    if a[rt] > last:\n",
    "        tmp.append(a[rt], 'R')\n",
    "    tmp.sort()\n",
    "    \n",
    "    if len(tmp) == 0:\n",
    "        break\n",
    "    else:\n",
    "        res += tmp[0][1]\n",
    "        last = tmp[0][0]\n",
    "        if tmp[0][1] == 'L':\n",
    "            lt += 1\n",
    "        else:\n",
    "            rt -= 1\n",
    "        tmp.clear()\n",
    "        \n",
    "print(len(res))\n",
    "print(res)"
   ]
  },
  {
   "cell_type": "markdown",
   "metadata": {},
   "source": [
    "### 역수열 ⭐️"
   ]
  },
  {
   "cell_type": "code",
   "execution_count": null,
   "metadata": {},
   "outputs": [],
   "source": [
    "a.insert(0,0)\n",
    "seq = [0] * n\n",
    "for i in range(n):\n",
    "    for j in range(n):\n",
    "        if a[i] ==0 and seq[j] == 0:\n",
    "            seq[j] = i+1\n",
    "            break\n",
    "        elif seq[j] == 0:\n",
    "            a[i] -= 1"
   ]
  }
 ],
 "metadata": {
  "kernelspec": {
   "display_name": "Python 3",
   "language": "python",
   "name": "python3"
  },
  "language_info": {
   "codemirror_mode": {
    "name": "ipython",
    "version": 3
   },
   "file_extension": ".py",
   "mimetype": "text/x-python",
   "name": "python",
   "nbconvert_exporter": "python",
   "pygments_lexer": "ipython3",
   "version": "3.7.8"
  }
 },
 "nbformat": 4,
 "nbformat_minor": 4
}
