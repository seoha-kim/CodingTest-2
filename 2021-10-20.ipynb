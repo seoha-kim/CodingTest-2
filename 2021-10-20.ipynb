{
 "cells": [
  {
   "cell_type": "markdown",
   "metadata": {},
   "source": [
    "### 네트워크 자르기 (Bottom-up)"
   ]
  },
  {
   "cell_type": "code",
   "execution_count": null,
   "metadata": {},
   "outputs": [],
   "source": [
    "dy = [0]*(n+1)\n",
    "dy[1]=1\n",
    "dy[2]=2\n",
    "\n",
    "fdor i in range(3, n+1):\n",
    "    dy[i] = dy[i-1]+dy[i-2]\n",
    "    \n",
    "print(dy[n])"
   ]
  },
  {
   "cell_type": "markdown",
   "metadata": {},
   "source": [
    "### 네트워크 자르기 (Top-Down 재귀)"
   ]
  },
  {
   "cell_type": "code",
   "execution_count": null,
   "metadata": {},
   "outputs": [],
   "source": [
    "def DFS(len):\n",
    "    if dy[len] > 0:\n",
    "        return dy[len]\n",
    "    \n",
    "    if len == 1 or len == 2:\n",
    "        return len\n",
    "    else:\n",
    "        dy[len] = DFS(len-1)+DFS(len-2)\n",
    "                      \n",
    "if __name__ == '__main__':\n",
    "    n = int(input())\n",
    "    dy = [0]*(n-1)\n",
    "    print(DFS(n))"
   ]
  }
 ],
 "metadata": {
  "kernelspec": {
   "display_name": "Python 3",
   "language": "python",
   "name": "python3"
  },
  "language_info": {
   "codemirror_mode": {
    "name": "ipython",
    "version": 3
   },
   "file_extension": ".py",
   "mimetype": "text/x-python",
   "name": "python",
   "nbconvert_exporter": "python",
   "pygments_lexer": "ipython3",
   "version": "3.7.8"
  }
 },
 "nbformat": 4,
 "nbformat_minor": 4
}
