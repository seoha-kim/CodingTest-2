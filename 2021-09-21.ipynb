{
 "cells": [
  {
   "cell_type": "markdown",
   "metadata": {},
   "source": [
    "### 예산"
   ]
  },
  {
   "cell_type": "code",
   "execution_count": null,
   "metadata": {},
   "outputs": [],
   "source": [
    "def solution(d, budget):\n",
    "    answer = 0; d.sort()\n",
    "    while sum(d[0:answer+1]) <= budget:\n",
    "        if answer == len(d):\n",
    "            break\n",
    "        answer += 1\n",
    "    return answer"
   ]
  },
  {
   "cell_type": "code",
   "execution_count": null,
   "metadata": {},
   "outputs": [],
   "source": [
    "def solution(d, budget):\n",
    "    d.sort()\n",
    "    while budget < sum(d):\n",
    "        d.pop()\n",
    "    return len(d)\n"
   ]
  },
  {
   "cell_type": "markdown",
   "metadata": {},
   "source": [
    "### 두개 뽑아서 더하기"
   ]
  },
  {
   "cell_type": "code",
   "execution_count": null,
   "metadata": {},
   "outputs": [],
   "source": [
    "def solution(numbers):\n",
    "    from itertools import combinations\n",
    "    answer = set()\n",
    "    for x in list(combinations(numbers,2)):\n",
    "        answer.add(sum(x))\n",
    "        \n",
    "    return sorted(list(answer))"
   ]
  },
  {
   "cell_type": "code",
   "execution_count": null,
   "metadata": {},
   "outputs": [],
   "source": [
    "def solution(numbers):\n",
    "    answer = []\n",
    "    for i in range(len(numbers)):\n",
    "        for j in range(i+1, len(numbers)):\n",
    "            answer.append(numbers[i] + numbers[j])\n",
    "    return sorted(list(set(answer)))"
   ]
  },
  {
   "cell_type": "markdown",
   "metadata": {},
   "source": [
    "### 2016년"
   ]
  },
  {
   "cell_type": "code",
   "execution_count": null,
   "metadata": {},
   "outputs": [],
   "source": [
    "def solution(a, b):\n",
    "    mon = [0,31,29,31,30,31,30,31,31,30,31,30,31]\n",
    "    day = ['FRI','SAT','SUN','MON','TUE','WED','THU']\n",
    "    res = sum(mon[:a])+(b-1)\n",
    "    return day[res%7]"
   ]
  },
  {
   "cell_type": "markdown",
   "metadata": {},
   "source": [
    "### 복서 정렬하기"
   ]
  },
  {
   "cell_type": "code",
   "execution_count": null,
   "metadata": {},
   "outputs": [],
   "source": [
    "def solution(weights, head2head):\n",
    "    win_rate = []\n",
    "    for x in head2head:\n",
    "        if x.count('N') == len(x):\n",
    "            win_rate.append(0)\n",
    "        else:\n",
    "            win_rate.append(x.count('W')/(x.count('L')+x.count('W')))\n",
    "    \n",
    "    win_heavy = []\n",
    "    for i,head in enumerate(head2head):\n",
    "        win = 0\n",
    "        for j,x in enumerate(head):\n",
    "            if (x =='W') and (weights[i] < weights[j]):\n",
    "                win += 1\n",
    "        win_heavy.append(win)\n",
    "        \n",
    "    dic = {}\n",
    "    for i in range(len(weights)):\n",
    "        dic[i+1] = [win_rate[i], win_heavy[i], weights[i]]\n",
    "    \n",
    "    return sorted(dic, key=lambda x: [dic[x][0], dic[x][1], dic[x][2], -x], reverse=True)"
   ]
  },
  {
   "cell_type": "markdown",
   "metadata": {},
   "source": [
    "### 직업군 추천하기"
   ]
  },
  {
   "cell_type": "code",
   "execution_count": null,
   "metadata": {},
   "outputs": [],
   "source": [
    "def solution(table, languages, preference):\n",
    "    _max = 0; table.sort()\n",
    "    for x in table:\n",
    "        job = x.split(' ')[0]\n",
    "        score = sum([preference[i]*(6-x.split(' ').index(lang)) if lang in x.split(' ') else 0 for i, lang in enumerate(languages)])\n",
    "        if score > _max:\n",
    "            answer = job\n",
    "            _max = score\n",
    "    return answer"
   ]
  }
 ],
 "metadata": {
  "kernelspec": {
   "display_name": "Python 3",
   "language": "python",
   "name": "python3"
  },
  "language_info": {
   "codemirror_mode": {
    "name": "ipython",
    "version": 3
   },
   "file_extension": ".py",
   "mimetype": "text/x-python",
   "name": "python",
   "nbconvert_exporter": "python",
   "pygments_lexer": "ipython3",
   "version": "3.7.8"
  }
 },
 "nbformat": 4,
 "nbformat_minor": 4
}
