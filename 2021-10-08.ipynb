{
 "cells": [
  {
   "cell_type": "markdown",
   "metadata": {},
   "source": [
    "### 재귀함수와 스택"
   ]
  },
  {
   "cell_type": "code",
   "execution_count": null,
   "metadata": {},
   "outputs": [],
   "source": [
    "def DFS(x):\n",
    "    if x > 0:\n",
    "        DFS(x-1)\n",
    "        print(x, end=' ')\n",
    "        \n",
    "\n",
    "n = int(input())\n",
    "DFS(n)"
   ]
  },
  {
   "cell_type": "markdown",
   "metadata": {},
   "source": [
    "### 재귀함수를 이용한 이진수 출력"
   ]
  },
  {
   "cell_type": "code",
   "execution_count": null,
   "metadata": {},
   "outputs": [],
   "source": [
    "def DFS(x):\n",
    "    if x == 0:\n",
    "        return\n",
    "    \n",
    "    else:\n",
    "        DFS(x//2)\n",
    "        print(x%2, end= '')\n",
    "\n",
    "n = int(input())\n",
    "DFS(n)"
   ]
  },
  {
   "cell_type": "markdown",
   "metadata": {
    "tags": []
   },
   "source": [
    "### 이진트리 순회"
   ]
  },
  {
   "cell_type": "code",
   "execution_count": null,
   "metadata": {},
   "outputs": [],
   "source": [
    "# 전위 순회\n",
    "def DFS(v):\n",
    "    if v > 7:\n",
    "        return\n",
    "    \n",
    "    else:\n",
    "        print(v, end=' ')\n",
    "        DFS(v*2)\n",
    "        DFS(v*2+1)\n",
    "\n",
    "if __name__ == '__main__':\n",
    "    DFS(1)"
   ]
  },
  {
   "cell_type": "code",
   "execution_count": null,
   "metadata": {},
   "outputs": [],
   "source": [
    "# 중위 순회\n",
    "def DFS(v):\n",
    "    if v > 7:\n",
    "        return\n",
    "    \n",
    "    else:\n",
    "        DFS(v*2)\n",
    "        print(v, end=' ')\n",
    "        DFS(v*2+1)\n",
    "\n",
    "if __name__ == '__main__':\n",
    "    DFS(1)"
   ]
  },
  {
   "cell_type": "code",
   "execution_count": null,
   "metadata": {},
   "outputs": [],
   "source": [
    "# 후위 순회\n",
    "def DFS(v):\n",
    "    if v > 7:\n",
    "        return\n",
    "    \n",
    "    else:\n",
    "        DFS(v*2)\n",
    "        DFS(v*2+1)\n",
    "        print(v, end=' ')\n",
    "\n",
    "if __name__ == '__main__':\n",
    "    DFS(1)"
   ]
  }
 ],
 "metadata": {
  "kernelspec": {
   "display_name": "Python 3",
   "language": "python",
   "name": "python3"
  },
  "language_info": {
   "codemirror_mode": {
    "name": "ipython",
    "version": 3
   },
   "file_extension": ".py",
   "mimetype": "text/x-python",
   "name": "python",
   "nbconvert_exporter": "python",
   "pygments_lexer": "ipython3",
   "version": "3.7.8"
  }
 },
 "nbformat": 4,
 "nbformat_minor": 4
}
