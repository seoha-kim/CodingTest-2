{
 "cells": [
  {
   "cell_type": "markdown",
   "metadata": {},
   "source": [
    "### 프린터"
   ]
  },
  {
   "cell_type": "code",
   "execution_count": null,
   "metadata": {},
   "outputs": [],
   "source": [
    "def solution(priorities, location):\n",
    "    queue = list(range(len(priorities)))    \n",
    "    answer = []\n",
    "    while priorities:\n",
    "        score = priorities.pop(0)\n",
    "        idx = queue.pop(0)\n",
    "        if len(priorities)==0:\n",
    "            answer.append(idx)\n",
    "            break\n",
    "\n",
    "        if score < max(priorities):\n",
    "            queue.append(idx)\n",
    "            priorities.append(score)\n",
    "        else:\n",
    "            answer.append(idx)\n",
    "    return answer.index(location) + 1"
   ]
  },
  {
   "cell_type": "code",
   "execution_count": null,
   "metadata": {},
   "outputs": [],
   "source": [
    "def solution(priorities, location):\n",
    "    queue =  [(i,p) for i,p in enumerate(priorities)]\n",
    "    answer = 0\n",
    "    while True:\n",
    "        cur = queue.pop(0)\n",
    "        if any(cur[1] < q[1] for q in queue):\n",
    "            queue.append(cur)\n",
    "        else:\n",
    "            answer += 1\n",
    "            if cur[0] == location:\n",
    "                return answer"
   ]
  },
  {
   "cell_type": "markdown",
   "metadata": {},
   "source": [
    "###  주식 가격"
   ]
  },
  {
   "cell_type": "code",
   "execution_count": null,
   "metadata": {},
   "outputs": [],
   "source": [
    "def solution(prices):\n",
    "    answer = []\n",
    "    for i in range(len(prices)):\n",
    "        for j in range(i+1,len(prices)):\n",
    "            if prices[i] > prices[j]:\n",
    "                break\n",
    "        answer.append(j-i)\n",
    "    return answer"
   ]
  },
  {
   "cell_type": "code",
   "execution_count": null,
   "metadata": {},
   "outputs": [],
   "source": [
    "def solution(prices):\n",
    "    answer = [0] * len(prices)\n",
    "    for i in range(len(prices)):\n",
    "        for j in range(i+1, len(prices)):\n",
    "            if prices[i] <= prices[j]:\n",
    "                answer[i] += 1\n",
    "            else:\n",
    "                answer[i] += 1\n",
    "                break\n",
    "    return answer"
   ]
  },
  {
   "cell_type": "markdown",
   "metadata": {},
   "source": [
    "### 다리를 건너는 트럭"
   ]
  },
  {
   "cell_type": "code",
   "execution_count": null,
   "metadata": {},
   "outputs": [],
   "source": [
    "from collections import deque\n",
    "\n",
    "def solution(bridge_length, weight, truck_weights):\n",
    "    on = deque([0 for _ in range(bridge_length)])\n",
    "    total_weight = 0\n",
    "    time = 0\n",
    "    \n",
    "    while truck_weights:\n",
    "        total_weight -= on.popleft()\n",
    "        if total_weight + truck_weights[0] > weight:\n",
    "            on.append(0)\n",
    "        else:\n",
    "            truck = truck_weights.pop(0)\n",
    "            on.append(truck)\n",
    "            total_weight += truck\n",
    "        time += 1\n",
    "        \n",
    "    time += bridge_length\n",
    "    return time"
   ]
  },
  {
   "cell_type": "markdown",
   "metadata": {},
   "source": [
    "### 사과나무"
   ]
  },
  {
   "cell_type": "code",
   "execution_count": null,
   "metadata": {},
   "outputs": [],
   "source": [
    "answer = 0\n",
    "n = 5\n",
    "\n",
    "for i in range(n):\n",
    "    if i <= (n//2)\n",
    "        answer += string[(n//2)-i:(n//2)+i+1]\n",
    "    else:\n",
    "        answer += string[(n//2)-(n-1-i):(n//2)+(n-1-i)+1]"
   ]
  },
  {
   "cell_type": "code",
   "execution_count": null,
   "metadata": {},
   "outputs": [],
   "source": [
    "res = 0\n",
    "s = e = n//2\n",
    "for i in range(n):\n",
    "    res += a[s:e+1]\n",
    "    if i <= (n//2):\n",
    "        s -= 1\n",
    "        e += 1\n",
    "    else:\n",
    "        s += 1\n",
    "        e -= 1\n",
    "        "
   ]
  },
  {
   "cell_type": "markdown",
   "metadata": {},
   "source": [
    "### 곳감"
   ]
  },
  {
   "cell_type": "code",
   "execution_count": null,
   "metadata": {},
   "outputs": [],
   "source": [
    "for i in range(m):\n",
    "    h, t, k = map(int, input.split(' '))\n",
    "    if t == 0:\n",
    "        for _ in range(k):\n",
    "            pop = a[h-1].pop(0)\n",
    "            a[h-1].append(pop)\n",
    "    else:\n",
    "        for _ in range(k):\n",
    "            pop = a[h-1].pop()\n",
    "            a[h-1].insert(0, pop)\n",
    "            \n",
    "s = 0; e = n-1\n",
    "for i in range(n):\n",
    "    res += a[s:e+1]\n",
    "    if i <= n//2:\n",
    "        s += 1\n",
    "        e -= 1\n",
    "    else:\n",
    "        s -= 1\n",
    "        e += 1\n",
    "print(res)"
   ]
  },
  {
   "cell_type": "markdown",
   "metadata": {},
   "source": [
    "### 봉우리"
   ]
  },
  {
   "cell_type": "code",
   "execution_count": null,
   "metadata": {},
   "outputs": [],
   "source": [
    "a.insert(0, [0]*n)\n",
    "a.append([0]*n)\n",
    "for x in a:\n",
    "    x.insert(0, 0)\n",
    "    x.append(0)\n",
    "    \n",
    "cnt = 0; \n",
    "dx = [-1, 0, 1, 0]\n",
    "dy = [0, 1, 0, -1]\n",
    "for i in range(1, n+1):\n",
    "    for j in range(1, n+1):\n",
    "        if all(a[i][j] > a[i+dx[k]][j+dy[k]] for k in range(4)):\n",
    "            cnt += 1"
   ]
  },
  {
   "cell_type": "markdown",
   "metadata": {},
   "source": [
    "### 격자판 회문수"
   ]
  },
  {
   "cell_type": "code",
   "execution_count": null,
   "metadata": {},
   "outputs": [],
   "source": [
    "cnt = 0\n",
    "for i in range(3):\n",
    "    for j in range(7):\n",
    "        tmp = board[j][i:i+5]\n",
    "        if tmp == tmp[::-1]:\n",
    "            cnt+= 1\n",
    "        for k in range(2):\n",
    "            if board[i+k][j] != board[i+5-k-1][j]:\n",
    "                break\n",
    "        else:\n",
    "            cnt += 1"
   ]
  },
  {
   "cell_type": "markdown",
   "metadata": {},
   "source": [
    "### H-Index"
   ]
  },
  {
   "cell_type": "code",
   "execution_count": null,
   "metadata": {},
   "outputs": [],
   "source": [
    "def solution(citations):\n",
    "    h_index = 0\n",
    "    while sum([x>h_index for x in citations]) > h_index:\n",
    "        h_index += 1\n",
    "    return h_index"
   ]
  },
  {
   "cell_type": "markdown",
   "metadata": {},
   "source": [
    "###  가장 큰 수"
   ]
  },
  {
   "cell_type": "code",
   "execution_count": null,
   "metadata": {},
   "outputs": [],
   "source": [
    "def solution(numbers):\n",
    "    numbers = list(map(str, numbers))\n",
    "    numbers.sort(key=lambda x: x * 3, reverse=True)\n",
    "    return str(int(''.join(numbers)))"
   ]
  },
  {
   "cell_type": "markdown",
   "metadata": {},
   "source": [
    "### 소수 찾기"
   ]
  },
  {
   "cell_type": "code",
   "execution_count": null,
   "metadata": {},
   "outputs": [],
   "source": [
    "def is_prime(num):\n",
    "    if num <= 1:\n",
    "        return False\n",
    "    \n",
    "    for i in range(2, (num//2)+1):\n",
    "        if num % i == 0:\n",
    "            return False\n",
    "    else:\n",
    "        return True\n",
    "\n",
    "def solution(numbers):\n",
    "    from itertools import permutations \n",
    "    \n",
    "    answer = 0; perm = set()\n",
    "    numbers = [int(n) for n in numbers]\n",
    "    for i in range(1, len(numbers)+1):\n",
    "        for x in list(permutations(numbers, i)):\n",
    "            x = int(''.join(map(str, x)))\n",
    "            perm.add(x)\n",
    "    \n",
    "    for x in perm:\n",
    "        if is_prime(int(x)):\n",
    "            answer += 1\n",
    "    return answer"
   ]
  },
  {
   "cell_type": "markdown",
   "metadata": {},
   "source": [
    "### 카펫"
   ]
  },
  {
   "cell_type": "code",
   "execution_count": null,
   "metadata": {},
   "outputs": [],
   "source": [
    "def solution(brown, yellow):\n",
    "    for i in range(1, yellow+1):\n",
    "        if yellow % i == 0:\n",
    "            if (i+2)*(yellow//i+2)-yellow == brown:\n",
    "                return sorted([i+2, yellow//i+2], reverse=True)"
   ]
  },
  {
   "cell_type": "code",
   "execution_count": null,
   "metadata": {},
   "outputs": [],
   "source": [
    "def solution(brown, red):\n",
    "    for i in range(1, int(red**(1/2))+1):\n",
    "        if red % i == 0:\n",
    "            if 2*(i + red//i) == brown-4:\n",
    "                return [red//i+2, i+2]\n"
   ]
  }
 ],
 "metadata": {
  "kernelspec": {
   "display_name": "Python 3",
   "language": "python",
   "name": "python3"
  },
  "language_info": {
   "codemirror_mode": {
    "name": "ipython",
    "version": 3
   },
   "file_extension": ".py",
   "mimetype": "text/x-python",
   "name": "python",
   "nbconvert_exporter": "python",
   "pygments_lexer": "ipython3",
   "version": "3.7.8"
  }
 },
 "nbformat": 4,
 "nbformat_minor": 4
}
