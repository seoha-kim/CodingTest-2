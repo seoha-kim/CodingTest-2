{
 "cells": [
  {
   "cell_type": "markdown",
   "metadata": {},
   "source": [
    "### 피자 배달 거리"
   ]
  },
  {
   "cell_type": "code",
   "execution_count": null,
   "metadata": {},
   "outputs": [],
   "source": [
    "def DFS(L, s):\n",
    "    global res\n",
    "    if L == m:\n",
    "        sum = 0\n",
    "        for j in range(len(hs)):\n",
    "            x1 = hs[j][0]\n",
    "            y1 = hs[j][1]\n",
    "            dis = 9999\n",
    "            for x in cb:\n",
    "                x2 = pz[x][0]\n",
    "                y2 = pz[x][1]\n",
    "                dis = min(dis, abs(x1-x2)+abs(y1-y2))\n",
    "            sum+= dis\n",
    "        if sum<res:\n",
    "            res=sum\n",
    "    else:\n",
    "        for i in range(s. len(pz)):\n",
    "            ch[L]=i\n",
    "            DFS(L+1, i+1)\n",
    "            \n",
    "if __name__ == '__main__':\n",
    "    n,m = map(int, input().split())\n",
    "    board = [list(map(int, input().split())) for _ in range(n)]\n",
    "    hs = []\n",
    "    pz = []\n",
    "    cb = [0]*m\n",
    "    res = 9999\n",
    "    for i in range(n):\n",
    "        for j in range(n):\n",
    "            if board[i][j] == 1:\n",
    "                hs.append((i,j))\n",
    "            elif board[i][j] == 2:\n",
    "                pz.append((i,j))\n",
    "        DFS(0, 0)"
   ]
  },
  {
   "cell_type": "code",
   "execution_count": null,
   "metadata": {},
   "outputs": [],
   "source": []
  }
 ],
 "metadata": {
  "kernelspec": {
   "display_name": "Python 3",
   "language": "python",
   "name": "python3"
  },
  "language_info": {
   "codemirror_mode": {
    "name": "ipython",
    "version": 3
   },
   "file_extension": ".py",
   "mimetype": "text/x-python",
   "name": "python",
   "nbconvert_exporter": "python",
   "pygments_lexer": "ipython3",
   "version": "3.7.8"
  }
 },
 "nbformat": 4,
 "nbformat_minor": 4
}
