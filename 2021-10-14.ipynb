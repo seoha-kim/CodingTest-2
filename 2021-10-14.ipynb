{
 "cells": [
  {
   "cell_type": "markdown",
   "metadata": {},
   "source": [
    "### 미로의 최단거리 통로 (BFS)"
   ]
  },
  {
   "cell_type": "code",
   "execution_count": null,
   "metadata": {},
   "outputs": [],
   "source": [
    "from collections import deque\n",
    "\n",
    "dx = [-1, 0, 1, 0]\n",
    "dy = [0, 1, 0, -1]\n",
    "board = [list(map(int, input().split())) for _ in range(7)]\n",
    "dis = [[0]*7 for _ in range(7)]\n",
    "Q = deque()\n",
    "Q.append((0,0))\n",
    "board[0][0]=1\n",
    "while Q:\n",
    "    tmp = Q.popleft()\n",
    "    for i in range(4):\n",
    "        x = tmp[0]+dx[i]\n",
    "        y = tmp[1]+dy[i]\n",
    "        if 0<x<=6 and 0<y<=6 and board[x][y]==0:\n",
    "            board[x][y]=1\n",
    "            dis[x][y]=dis[tmp[0]][tmp[1]]+1\n",
    "            Q.append((x,y))\n",
    "if dis[6][6]==0:\n",
    "    print(-1)\n",
    "else:\n",
    "    print(dis[6][6])"
   ]
  },
  {
   "cell_type": "markdown",
   "metadata": {},
   "source": [
    "### 미로 탐색 (DFS)"
   ]
  },
  {
   "cell_type": "code",
   "execution_count": null,
   "metadata": {},
   "outputs": [],
   "source": [
    "def DFS(x,y):\n",
    "    global cnt\n",
    "    if x == 6 and y == 6:\n",
    "        cnt += 1\n",
    "    else:\n",
    "        for i in range(4):\n",
    "            xx = x+dx[i]\n",
    "            yy = y+dy[i]\n",
    "            if 0<=xx<=6 and 0<=yy<=6 and board[xx][yy]==0:\n",
    "                board[xx][yy]=1\n",
    "                DFS(xx,yy)\n",
    "                board[xx][yy]=0\n",
    "            \n",
    "if __name__ == '__main__':\n",
    "    board = [list(map(int, input().split())) for _ in range(7)]\n",
    "    cnt = 0\n",
    "    board[0][0]=1\n",
    "    DFS(0,0)\n",
    "    print(cnt)"
   ]
  },
  {
   "cell_type": "markdown",
   "metadata": {},
   "source": [
    "### 등산 경로 (DFS)"
   ]
  },
  {
   "cell_type": "code",
   "execution_count": null,
   "metadata": {},
   "outputs": [],
   "source": [
    "def DFS(x,y):\n",
    "    global cnt\n",
    "    if x==ex and y==ey:\n",
    "        cnt+=1\n",
    "    else:\n",
    "        for k in range(4):\n",
    "            xx = x+dx[k]\n",
    "            yy = y+dy[k]\n",
    "            if 0<=xx<n and 0<=yy<n and ch[xx][yy]==0 and board[xx][yy]>board[x][y]:\n",
    "                ch[xx][yy]=1\n",
    "                DFS(xx,yy)\n",
    "                ch[xx][yy]=0\n",
    "\n",
    "if __name__ == '__main__':\n",
    "    n = int(input())\n",
    "    board = [[0]*n for _ in range(n)]\n",
    "    ch = [[0]*n for _ in range(n)]\n",
    "    max = 9999\n",
    "    min = - 9999\n",
    "    for i in range(n):\n",
    "        tmp = list(map(int, input().split()))\n",
    "        for j in range(n):\n",
    "            if tmp[j] < min:\n",
    "                min = tmp[j]\n",
    "                sx, sy = i,j\n",
    "            if tmp[j]  max:\n",
    "                max = tmp[j]\n",
    "                ex, ey = i,j\n",
    "            board[i][j] = tmp[j]\n",
    "            \n",
    "    ch[sx][sy]=1\n",
    "    cnt=0\n",
    "    DFS(sx, sy)\n",
    "    print(cnt)"
   ]
  },
  {
   "cell_type": "markdown",
   "metadata": {},
   "source": [
    "## 단지 번호 붙이기 (DFS)"
   ]
  },
  {
   "cell_type": "code",
   "execution_count": null,
   "metadata": {},
   "outputs": [],
   "source": [
    "def DFS(x,y):\n",
    "    global cnt\n",
    "    cnt += 1\n",
    "    board[x][y]=0\n",
    "    for i in range(4):\n",
    "        xx=x+dx[i]\n",
    "        yy=y+dy[i]\n",
    "        if 0<=xx<n and 0<=yy<n and board[xx][yy]==1:\n",
    "            DFS(xx,yy)\n",
    "\n",
    "if __name__ == '__main__':\n",
    "    n = int(input())\n",
    "    board = [list(map(int, input())) for _ in range(4)]\n",
    "    res = []\n",
    "    for i in range(n):\n",
    "        for j in range(n):\n",
    "            if board[i][j]==1:\n",
    "                cnt = 0\n",
    "                DFS(i,j)\n",
    "                res.append(cnt)\n",
    "    print(len(res))\n",
    "    res.sort()\n",
    "    for x in res:\n",
    "        print(x)"
   ]
  },
  {
   "cell_type": "markdown",
   "metadata": {},
   "source": [
    "### 섬나라 아일랜드 (BFS)"
   ]
  },
  {
   "cell_type": "code",
   "execution_count": null,
   "metadata": {},
   "outputs": [],
   "source": [
    "dx = [-1,-1,0,1,1,1,0,-1]\n",
    "dy = [0,1,1,1,0,-1,-1,-1]\n",
    "n = int(input())\n",
    "board = [list(map(int, input().split())) for _ in range(n)]\n",
    "cnt = 0\n",
    "Q = deque()\n",
    "for i in range(n):\n",
    "    for j in range(n):\n",
    "        if board[i][j]==1:\n",
    "            board[i][j]=0\n",
    "            Q.append((i,j))\n",
    "            while Q:\n",
    "                tmp = Q.popleft()\n",
    "                for k in range(8):\n",
    "                    x = tmp[0] + dx[k]\n",
    "                    y = tmp[1] + dy[k]\n",
    "                    if 0 <= x < n and 0 <= y < n and board[x][y]==1:\n",
    "                        board[x][y]=0\n",
    "                        Q.append((x,y))"
   ]
  }
 ],
 "metadata": {
  "kernelspec": {
   "display_name": "Python 3",
   "language": "python",
   "name": "python3"
  },
  "language_info": {
   "codemirror_mode": {
    "name": "ipython",
    "version": 3
   },
   "file_extension": ".py",
   "mimetype": "text/x-python",
   "name": "python",
   "nbconvert_exporter": "python",
   "pygments_lexer": "ipython3",
   "version": "3.7.8"
  }
 },
 "nbformat": 4,
 "nbformat_minor": 4
}
