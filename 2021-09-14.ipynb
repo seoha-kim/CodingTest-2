{
 "cells": [
  {
   "cell_type": "markdown",
   "metadata": {},
   "source": [
    "### 없는 숫자 더하기"
   ]
  },
  {
   "cell_type": "code",
   "execution_count": null,
   "metadata": {},
   "outputs": [],
   "source": [
    "def solution(numbers):\n",
    "    answer = -1\n",
    "    num_li = [0,1,2,3,4,5,6,7,8,9]\n",
    "    answer = sum(list(set(num_li) - set(numbers)))\n",
    "    return answer"
   ]
  },
  {
   "cell_type": "code",
   "execution_count": null,
   "metadata": {},
   "outputs": [],
   "source": [
    "def solution(numbers):\n",
    "    return 45 - sum(numbers)"
   ]
  },
  {
   "cell_type": "markdown",
   "metadata": {},
   "source": [
    "### 음양 더하기"
   ]
  },
  {
   "cell_type": "code",
   "execution_count": null,
   "metadata": {},
   "outputs": [],
   "source": [
    "def solution(absolutes, signs):\n",
    "    answer = 0\n",
    "    for i, x in enumerate(absolutes):\n",
    "        if signs[i] == True:\n",
    "            answer += x\n",
    "\n",
    "        elif signs[i] == False:\n",
    "            answer -= x\n",
    "    return answer"
   ]
  },
  {
   "cell_type": "code",
   "execution_count": null,
   "metadata": {},
   "outputs": [],
   "source": [
    "def solution(absolutes, signs):\n",
    "    return sum(absolutes if sign else -absolutes for absolutes, sign in zip(absolutes, signs))"
   ]
  },
  {
   "cell_type": "markdown",
   "metadata": {},
   "source": [
    "### 내적"
   ]
  },
  {
   "cell_type": "code",
   "execution_count": null,
   "metadata": {},
   "outputs": [],
   "source": [
    "def solution(a, b):\n",
    "    return sum([a_*b_ for a_, b_ in zip(a,b)])"
   ]
  },
  {
   "cell_type": "markdown",
   "metadata": {},
   "source": [
    "### 소수 만들기"
   ]
  },
  {
   "cell_type": "code",
   "execution_count": null,
   "metadata": {},
   "outputs": [],
   "source": [
    "from itertools import combinations\n",
    "\n",
    "def isPrime(n):\n",
    "    for i in range(2, n):\n",
    "        if n % i == 0:\n",
    "            return False\n",
    "    return  True\n",
    "\n",
    "def solution(nums):\n",
    "    answer = 0\n",
    "    arr = list(combinations(nums, 3))\n",
    "    for n1,n2,n3 in arr:\n",
    "        if isPrime(n1+n2+n3):\n",
    "            answer += 1\n",
    "    return answer\n",
    "\n",
    "from itertools import combinations"
   ]
  },
  {
   "cell_type": "code",
   "execution_count": null,
   "metadata": {},
   "outputs": [],
   "source": [
    "def solution(nums):\n",
    "    from itertools import combinations as cb\n",
    "    answer = 0\n",
    "    for a in cb(nums, 3):\n",
    "        cand = sum(a)\n",
    "        for j in range(2, cand):\n",
    "            if cand%j==0:\n",
    "                break\n",
    "        else:\n",
    "            answer += 1\n",
    "    return answer"
   ]
  },
  {
   "cell_type": "markdown",
   "metadata": {},
   "source": [
    "### 완주하지 못한 사람"
   ]
  },
  {
   "cell_type": "code",
   "execution_count": null,
   "metadata": {},
   "outputs": [],
   "source": [
    "def solution(s,c):\n",
    "\n",
    "    s.sort()\n",
    "    c.sort()\n",
    "\n",
    "    for par, com in zip(s, c) :\n",
    "        if par != com :\n",
    "            return par\n",
    "\n",
    "    return s[-1]"
   ]
  },
  {
   "cell_type": "code",
   "execution_count": null,
   "metadata": {},
   "outputs": [],
   "source": [
    "from collections import Counter\n",
    "\n",
    "def solution(participant, completion):\n",
    "    answer = Counter(participant) - Counter(completion)\n",
    "    return list(answer.keys())[0]"
   ]
  },
  {
   "cell_type": "markdown",
   "metadata": {},
   "source": [
    "### K번째 수"
   ]
  },
  {
   "cell_type": "code",
   "execution_count": null,
   "metadata": {},
   "outputs": [],
   "source": [
    "def solution(array, commands):\n",
    "    answer = []\n",
    "    for com in commands:\n",
    "        answer.append(sorted(array[com[0]-1: com[1]])[com[2]-1])\n",
    "    return answer"
   ]
  },
  {
   "cell_type": "markdown",
   "metadata": {},
   "source": [
    "### 소수"
   ]
  },
  {
   "cell_type": "code",
   "execution_count": null,
   "metadata": {},
   "outputs": [],
   "source": [
    "ch = [0]*n+1\n",
    "cnt = 0\n",
    "for i in range(2, n+1):\n",
    "    if ch[i] == 0:\n",
    "        cnt += 1\n",
    "        for j in range(i, n+1, i):\n",
    "            ch[j] = 1\n",
    "            \n",
    "print(cnt)"
   ]
  },
  {
   "cell_type": "code",
   "execution_count": null,
   "metadata": {},
   "outputs": [],
   "source": [
    "def reverse(x):\n",
    "    res = 0\n",
    "    while x > 0:\n",
    "        t = x%10\n",
    "        res = res*10 + t\n",
    "        x = x // 10\n",
    "    return res\n",
    "\n",
    "def isPrime(x):\n",
    "    if i == 1:\n",
    "        return False\n",
    "    for i in range(2, x//2):\n",
    "        if x % i == 0:\n",
    "            return False\n",
    "    else:\n",
    "        return True\n",
    "    \n",
    "for x in a:\n",
    "    tmp = reverse(x)\n",
    "    if isPrime(tmp):\n",
    "        return True\n",
    "    "
   ]
  },
  {
   "cell_type": "markdown",
   "metadata": {},
   "source": [
    "### 주사위 게임"
   ]
  },
  {
   "cell_type": "code",
   "execution_count": null,
   "metadata": {},
   "outputs": [],
   "source": [
    "for i in range(n):\n",
    "    res = 0\n",
    "    tmp.sort()\n",
    "    a,b,c = map(int, tmp)\n",
    "    if a==b and b==c:\n",
    "        money = 10000+a*1000\n",
    "    elif a==b:\n",
    "        money = 1000+(a*100)\n",
    "    \n",
    "    elif b==c:\n",
    "        money = 1000+(b*100)\n",
    "    else:\n",
    "        money = c*100\n",
    "        \n",
    "    if money>res:\n",
    "        res = money"
   ]
  },
  {
   "cell_type": "markdown",
   "metadata": {},
   "source": [
    "### 점수 계산"
   ]
  },
  {
   "cell_type": "code",
   "execution_count": null,
   "metadata": {},
   "outputs": [],
   "source": [
    "sum = 0; cnt=0\n",
    "for x in arr:\n",
    "    if x == 1:\n",
    "        cnt += 1\n",
    "        sum += cnt\n",
    "        \n",
    "    else:\n",
    "        cnt = 0"
   ]
  }
 ],
 "metadata": {
  "kernelspec": {
   "display_name": "Python 3",
   "language": "python",
   "name": "python3"
  },
  "language_info": {
   "codemirror_mode": {
    "name": "ipython",
    "version": 3
   },
   "file_extension": ".py",
   "mimetype": "text/x-python",
   "name": "python",
   "nbconvert_exporter": "python",
   "pygments_lexer": "ipython3",
   "version": "3.7.8"
  }
 },
 "nbformat": 4,
 "nbformat_minor": 4
}
