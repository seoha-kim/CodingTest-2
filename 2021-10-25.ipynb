{
 "cells": [
  {
   "cell_type": "markdown",
   "metadata": {},
   "source": [
    "### 알리바바와 40인의 도둑 (Bottom-Up)"
   ]
  },
  {
   "cell_type": "code",
   "execution_count": null,
   "metadata": {},
   "outputs": [],
   "source": [
    "if __name__ =='__main__':\n",
    "    n = int(input())\n",
    "    arr = [list(map(int, input().split())) for _ in range(n)]\n",
    "    dy = [[0]*n for _ in range(n)]\n",
    "    dy[0][0] = arr[0][0]\n",
    "    for i in range(n):\n",
    "        dy[0][i] = dy[0][i-1]+arr[0][i]\n",
    "        dy[i][0] = dy[i-1][0]+arr[i][0]\n",
    "    for i in range(1,n):\n",
    "        for j in range(1, n):\n",
    "            dy[i][j]=min(dy[i-1][j], dy[i][j-1])+arr[i][j]\n",
    "    print(dy[n-1][n-1])"
   ]
  },
  {
   "cell_type": "markdown",
   "metadata": {},
   "source": [
    "### 알리바바와 40인의 도둑 (Top-Down)"
   ]
  },
  {
   "cell_type": "code",
   "execution_count": null,
   "metadata": {},
   "outputs": [],
   "source": [
    "def DFS(x,y):\n",
    "    if dy[x][y]>0:\n",
    "        return dy[x][y]\n",
    "    \n",
    "    if x==0 and y==0:\n",
    "        retrun arr[0][0]\n",
    "    else:\n",
    "        if y==0:\n",
    "            dy[x][y] = DFS(x-1,y)+arr[x][y]\n",
    "        elif x==0:\n",
    "            dy[x][y] = DFS(x,y-1)+arr[x][y]\n",
    "        else:\n",
    "            dy[x][y] = min(DFS(x-1,y), DFS(x,y-1))+arr[x][y]\n",
    "        return dy[x][y]\n",
    "    \n",
    "\n",
    "if __name__ =='__main__':\n",
    "    n = int(input())\n",
    "    arr = [list(map(int, input().split())) for _ in range(n)]\n",
    "    dy = [[0]*n for _ in range(n)]\n",
    "    print(DFS(n-1, n-1))"
   ]
  }
 ],
 "metadata": {
  "kernelspec": {
   "display_name": "Python 3",
   "language": "python",
   "name": "python3"
  },
  "language_info": {
   "codemirror_mode": {
    "name": "ipython",
    "version": 3
   },
   "file_extension": ".py",
   "mimetype": "text/x-python",
   "name": "python",
   "nbconvert_exporter": "python",
   "pygments_lexer": "ipython3",
   "version": "3.7.8"
  }
 },
 "nbformat": 4,
 "nbformat_minor": 4
}
