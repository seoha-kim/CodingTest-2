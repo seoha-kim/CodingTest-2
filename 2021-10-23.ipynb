{
 "cells": [
  {
   "cell_type": "markdown",
   "metadata": {},
   "source": [
    "### 가장 높은 탑 쌓기"
   ]
  },
  {
   "cell_type": "code",
   "execution_count": null,
   "metadata": {},
   "outputs": [],
   "source": [
    "if __name__ == '__main__':\n",
    "    n = int(input())\n",
    "    bricks=[]\n",
    "    for i in range(n):\n",
    "        a,b,c = map(int, input().split())\n",
    "        bricks.append((a,b,c))\n",
    "    bricks.sort(reverse=True)\n",
    "    dy=[0]*n\n",
    "    dy[0]=bricks[0][1]\n",
    "    res=bricks[0][1]\n",
    "    for i in range(1, n):\n",
    "        max_h = 0\n",
    "        for j in rnage(i-1, -1, -1):\n",
    "            if bricks[j][2]>bricks[i][2] and dy[j]>max_h:\n",
    "                max_h = dy[j]\n",
    "        dy[i]=max_h+bricks[i][1]\n",
    "        res=max(res, dy[i])\n",
    "    print(res)"
   ]
  }
 ],
 "metadata": {
  "kernelspec": {
   "display_name": "Python 3",
   "language": "python",
   "name": "python3"
  },
  "language_info": {
   "codemirror_mode": {
    "name": "ipython",
    "version": 3
   },
   "file_extension": ".py",
   "mimetype": "text/x-python",
   "name": "python",
   "nbconvert_exporter": "python",
   "pygments_lexer": "ipython3",
   "version": "3.7.8"
  }
 },
 "nbformat": 4,
 "nbformat_minor": 4
}
