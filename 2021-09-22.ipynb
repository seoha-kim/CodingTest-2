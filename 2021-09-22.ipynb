{
 "cells": [
  {
   "cell_type": "markdown",
   "metadata": {},
   "source": [
    "### 상호평가"
   ]
  },
  {
   "cell_type": "code",
   "execution_count": null,
   "metadata": {},
   "outputs": [],
   "source": [
    "def solution(scores):\n",
    "    new_scores = [[] for x in range(len(scores))]\n",
    "    for i,score in enumerate(scores):\n",
    "        for j in range(len(scores)):\n",
    "            new_scores[j].append(score[j])\n",
    "    \n",
    "    answer = \"\"\n",
    "    for i, score in enumerate(new_scores):\n",
    "        if (score[i] == max(score) or score[i] == min(score)) and score.count(score[i])==1:\n",
    "                del score[i]\n",
    "                avg = sum(score)/len(score)\n",
    "        else:\n",
    "            avg = sum(score)/len(score)\n",
    "        \n",
    "        if avg >= 90:\n",
    "            answer += \"A\"\n",
    "        elif 80 <= avg < 90:\n",
    "            answer += \"B\"\n",
    "        elif 70 <= avg < 80:\n",
    "            answer += \"C\"\n",
    "        elif 50 <= avg < 70:\n",
    "            answer += \"D\"\n",
    "        elif avg < 50:\n",
    "            answer += \"F\"\n",
    "    return answer"
   ]
  },
  {
   "cell_type": "markdown",
   "metadata": {},
   "source": [
    "### 부족한 금액 계산하기"
   ]
  },
  {
   "cell_type": "code",
   "execution_count": null,
   "metadata": {},
   "outputs": [],
   "source": [
    "def solution(price, money, count):\n",
    "    sum = 0\n",
    "    for i in range(count):\n",
    "        sum += (i+1)*price\n",
    "    answer = sum-money if sum > money else 0\n",
    "    return answer"
   ]
  },
  {
   "cell_type": "markdown",
   "metadata": {},
   "source": [
    "### 비밀지도"
   ]
  },
  {
   "cell_type": "code",
   "execution_count": null,
   "metadata": {},
   "outputs": [],
   "source": [
    "def ten2two(n,arr):\n",
    "    ans = ''; res = arr\n",
    "    while res:\n",
    "        ans += str(res % 2)\n",
    "        res = res // 2\n",
    "    \n",
    "    while len(ans) < n:\n",
    "        ans += '0'\n",
    "        \n",
    "    return ans[::-1]\n",
    "\n",
    "def solution(n, arr1, arr2):\n",
    "    answer = []\n",
    "    for a1, a2 in zip(arr1, arr2):\n",
    "        a1 = ten2two(n,a1); a2 = ten2two(n,a2); new = ''\n",
    "        for i in range(n):\n",
    "            if a1[i] == '1' or a2[i] == '1':\n",
    "                new += '#'\n",
    "            else: \n",
    "                new += ' '\n",
    "        answer.append(new)\n",
    "    return answer"
   ]
  },
  {
   "cell_type": "markdown",
   "metadata": {},
   "source": [
    "### 가운데 글자 가져오기"
   ]
  },
  {
   "cell_type": "code",
   "execution_count": null,
   "metadata": {},
   "outputs": [],
   "source": [
    "def solution(s):\n",
    "    if len(s) % 2 == 0:\n",
    "        answer = s[len(s)//2-1:len(s)//2+1]\n",
    "    else:\n",
    "        answer = s[len(s)//2]\n",
    "    return answer"
   ]
  },
  {
   "cell_type": "markdown",
   "metadata": {},
   "source": [
    "### 다트 게임"
   ]
  },
  {
   "cell_type": "code",
   "execution_count": null,
   "metadata": {},
   "outputs": [],
   "source": [
    "def solution(dartResult):\n",
    "    answer = []; i = -1\n",
    "    for idx, x in enumerate(dartResult):\n",
    "        try: \n",
    "            tmp = int(x)\n",
    "            if idx != 0 and dartResult[idx-1] =='1' and x == '0':\n",
    "                answer.pop()\n",
    "                answer.append(10)\n",
    "                continue\n",
    "            else:\n",
    "                answer.append(int(x))\n",
    "                i += 1\n",
    "                continue\n",
    "            \n",
    "        except: \n",
    "            if x == 'S':\n",
    "                answer[i] = answer[i]**1\n",
    "            elif x == 'D':\n",
    "                answer[i] = answer[i]**2\n",
    "            elif x == 'T':\n",
    "                answer[i] = answer[i]**3\n",
    "                \n",
    "            elif x == '*':\n",
    "                if i == 0:\n",
    "                    answer[i] = answer[i]*2\n",
    "                else:\n",
    "                    answer[i-1] = answer[i-1]*2\n",
    "                    answer[i] = answer[i]*2\n",
    "\n",
    "            elif x == '#':\n",
    "                answer[i] = (-1) * answer[i]\n",
    "        \n",
    "    return sum(answer)"
   ]
  },
  {
   "cell_type": "code",
   "execution_count": null,
   "metadata": {},
   "outputs": [],
   "source": [
    "def solution(dartResult):\n",
    "    point = []\n",
    "    answer = []\n",
    "    dartResult = dartResult.replace('10','k')\n",
    "    point = ['10' if i == 'k' else i for i in dartResult]\n",
    "    print(point)\n",
    "\n",
    "    i = -1\n",
    "    sdt = ['S', 'D', 'T']\n",
    "    for j in point:\n",
    "        if j in sdt :\n",
    "            answer[i] = answer[i] ** (sdt.index(j)+1)\n",
    "        elif j == '*':\n",
    "            answer[i] = answer[i] * 2\n",
    "            if i != 0 :\n",
    "                answer[i - 1] = answer[i - 1] * 2\n",
    "        elif j == '#':\n",
    "            answer[i] = answer[i] * (-1)\n",
    "        else:\n",
    "            answer.append(int(j))\n",
    "            i += 1\n",
    "    return sum(answer)"
   ]
  },
  {
   "cell_type": "markdown",
   "metadata": {},
   "source": [
    "### 같은 숫자는 싫어"
   ]
  },
  {
   "cell_type": "code",
   "execution_count": null,
   "metadata": {},
   "outputs": [],
   "source": [
    "def solution(arr):\n",
    "    answer = []; i = 0\n",
    "    for x in arr:\n",
    "        if i == 0:\n",
    "            answer.append(x)\n",
    "            i += 1\n",
    "\n",
    "        else:\n",
    "            if answer[i-1] != x:\n",
    "                answer.append(x)\n",
    "                i += 1\n",
    "    return answer"
   ]
  }
 ],
 "metadata": {
  "kernelspec": {
   "display_name": "Python 3",
   "language": "python",
   "name": "python3"
  },
  "language_info": {
   "codemirror_mode": {
    "name": "ipython",
    "version": 3
   },
   "file_extension": ".py",
   "mimetype": "text/x-python",
   "name": "python",
   "nbconvert_exporter": "python",
   "pygments_lexer": "ipython3",
   "version": "3.7.8"
  }
 },
 "nbformat": 4,
 "nbformat_minor": 4
}
