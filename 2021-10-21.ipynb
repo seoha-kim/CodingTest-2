{
 "cells": [
  {
   "cell_type": "markdown",
   "metadata": {},
   "source": [
    "### 최대 부분 증가수열"
   ]
  },
  {
   "cell_type": "code",
   "execution_count": null,
   "metadata": {},
   "outputs": [],
   "source": [
    "import sys\n",
    "\n",
    "n = int(input())\n",
    "arr = list(map(int, input().split()))\n",
    "arr.insert(0, 0)\n",
    "dy = [0]*(n+1)\n",
    "dy[1] = 1\n",
    "res = 0\n",
    "for i in range(2, n+1):\n",
    "    max = 0\n",
    "    for j in range(i-1, 0, -1):\n",
    "        if arr[j] < arr[i] and dy[j]>max:\n",
    "            max = dy[j]\n",
    "    dy[i]=max+1\n",
    "    if dy[i]>res:\n",
    "        res=dy[i]"
   ]
  }
 ],
 "metadata": {
  "kernelspec": {
   "display_name": "Python 3",
   "language": "python",
   "name": "python3"
  },
  "language_info": {
   "codemirror_mode": {
    "name": "ipython",
    "version": 3
   },
   "file_extension": ".py",
   "mimetype": "text/x-python",
   "name": "python",
   "nbconvert_exporter": "python",
   "pygments_lexer": "ipython3",
   "version": "3.7.8"
  }
 },
 "nbformat": 4,
 "nbformat_minor": 4
}
