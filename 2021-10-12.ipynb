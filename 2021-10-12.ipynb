{
 "cells": [
  {
   "cell_type": "markdown",
   "metadata": {},
   "source": [
    "### 최대점수 구하기"
   ]
  },
  {
   "cell_type": "code",
   "execution_count": null,
   "metadata": {},
   "outputs": [],
   "source": [
    "def DFS(L, sum, time):\n",
    "    global = res\n",
    "    if time > m:\n",
    "        return\n",
    "    if L == n:\n",
    "        if sum > res:\n",
    "            res=sum\n",
    "    else:\n",
    "        DFS(L+1, sum+pv[L], time+pt[L])\n",
    "        DFS(L+1, sum, time)\n",
    "\n",
    "if __name__ == '__main__':\n",
    "    n, m = map(int, input().split())\n",
    "    pv = list()\n",
    "    pt = list()\n",
    "    for i in range(n):\n",
    "        a, b = map(int, input().split())\n",
    "        pv.append(a)\n",
    "        pt.append(b)\n",
    "    res = -9999\n",
    "    DFS(0,0,0)\n",
    "    print(res)"
   ]
  },
  {
   "cell_type": "markdown",
   "metadata": {},
   "source": [
    "### 휴가"
   ]
  },
  {
   "cell_type": "code",
   "execution_count": null,
   "metadata": {},
   "outputs": [],
   "source": [
    "def DFS(L, sum):\n",
    "    if L == n+1:\n",
    "        if sum > res:\n",
    "            res = sum\n",
    "    else:\n",
    "        if L+T[L] <= n+1:\n",
    "            DFS(L+T[L], sum+P[L])\n",
    "        DFS(L+1, sum)\n",
    "\n",
    "if __name__ == \"__main__\":\n",
    "    n = int(input())\n",
    "    T = list()\n",
    "    P = list()\n",
    "    for i in range(n):\n",
    "        a, b = map(int, input().split())\n",
    "        T.append(a)\n",
    "        P.append(b)\n",
    "    T.insert(0,0)\n",
    "    P.insert(0,0)\n",
    "    res = -9999\n",
    "    DFS(1,0)"
   ]
  },
  {
   "cell_type": "markdown",
   "metadata": {},
   "source": [
    "### 양팔저울 ⭐️"
   ]
  },
  {
   "cell_type": "code",
   "execution_count": null,
   "metadata": {},
   "outputs": [],
   "source": [
    "def DFS(L, sum):\n",
    "    global res\n",
    "    if L == n:\n",
    "        if 0<sum<=s:\n",
    "            res.append(sum)\n",
    "        \n",
    "    else:\n",
    "        DFS(L+1, sum+G[L])\n",
    "        DFS(L+1, sum-G[L])\n",
    "        DFS(L+1, sum)\n",
    "\n",
    "if __name__ == '__main__':\n",
    "    n = int(input())\n",
    "    G = list(map(int, input().split()))\n",
    "    s = sum(G)\n",
    "    res=set()\n",
    "    DFS(0,0)\n",
    "    print(s-len(res))"
   ]
  },
  {
   "cell_type": "markdown",
   "metadata": {},
   "source": [
    "### 동전 바꿔주기"
   ]
  },
  {
   "cell_type": "code",
   "execution_count": null,
   "metadata": {},
   "outputs": [],
   "source": [
    "def DFS(L, sum):\n",
    "    global cnt\n",
    "    if sum > T:\n",
    "        return \n",
    "    \n",
    "    if L == k:\n",
    "        if sum==T:\n",
    "            cnt += 1\n",
    "    else:\n",
    "        for i in range(cn[L]):\n",
    "            DFS(L+1, sum+i*cv[L])\n",
    "\n",
    "if __name__ == '__main__':\n",
    "    T = int(input())\n",
    "    k = int(input())\n",
    "    cv = list()\n",
    "    cn = list()\n",
    "    for i in range(k):\n",
    "        a, b = map(int, input().split())\n",
    "        cv.append(a)\n",
    "        cn.append(b)\n",
    "    cnt = 0\n",
    "    DFS(0, 0)\n",
    "    print(cnt)"
   ]
  }
 ],
 "metadata": {
  "kernelspec": {
   "display_name": "Python 3",
   "language": "python",
   "name": "python3"
  },
  "language_info": {
   "codemirror_mode": {
    "name": "ipython",
    "version": 3
   },
   "file_extension": ".py",
   "mimetype": "text/x-python",
   "name": "python",
   "nbconvert_exporter": "python",
   "pygments_lexer": "ipython3",
   "version": "3.7.8"
  }
 },
 "nbformat": 4,
 "nbformat_minor": 4
}
