{
 "cells": [
  {
   "cell_type": "markdown",
   "metadata": {},
   "source": [
    "### 크레인 인형뽑기⭐️"
   ]
  },
  {
   "cell_type": "markdown",
   "metadata": {},
   "source": [
    "https://programmers.co.kr/learn/courses/30/lessons/64061"
   ]
  },
  {
   "cell_type": "code",
   "execution_count": null,
   "metadata": {},
   "outputs": [],
   "source": [
    "def solution(board, moves):\n",
    "    answer = 0; doll = []\n",
    "    while moves:\n",
    "\n",
    "        m = moves.pop(0) - 1\n",
    "        # 인형 뽑기\n",
    "        for i in range(len(board)):\n",
    "            if board[i][m] != 0:\n",
    "                doll.append(board[i][m])\n",
    "                board[i][m] = 0\n",
    "                \n",
    "                # Pop!\n",
    "                if (len(doll) > 1) and (doll[-1] == doll[-2]):\n",
    "                    doll.pop(); doll.pop()\n",
    "                    answer += 2\n",
    "                break\n",
    "    return answer"
   ]
  },
  {
   "cell_type": "markdown",
   "metadata": {},
   "source": [
    "### 다트 게임 ⭐️"
   ]
  },
  {
   "cell_type": "code",
   "execution_count": null,
   "metadata": {},
   "outputs": [],
   "source": [
    "def solution(dartResult):\n",
    "    dartResult = dartResult.replace('10', '&')\n",
    "    answer = []; num = 0; i = -1\n",
    "    for d in dartResult:\n",
    "        if d.isdigit():\n",
    "            answer.append(int(d))\n",
    "            i += 1\n",
    "            continue\n",
    "        elif d == '&':\n",
    "            answer.append(10)\n",
    "            i += 1\n",
    "            continue\n",
    "        \n",
    "        else:\n",
    "            if d == 'S':\n",
    "                answer[i] = answer[i] ** 1    \n",
    "            elif d == 'D':\n",
    "                answer[i] = answer[i] ** 2\n",
    "            elif d == 'T':\n",
    "                answer[i] = answer[i] ** 3\n",
    "\n",
    "            elif d == '*':\n",
    "                if i == 0:\n",
    "                    answer[i] = answer[i]*2\n",
    "                else:\n",
    "                    answer[i-1] = answer[i-1]*2\n",
    "                    answer[i] = answer[i]*2\n",
    "            elif d == '#':\n",
    "                answer[i] = answer[i]*(-1)\n",
    "\n",
    "    return sum(answer)"
   ]
  }
 ],
 "metadata": {
  "kernelspec": {
   "display_name": "Python 3",
   "language": "python",
   "name": "python3"
  },
  "language_info": {
   "codemirror_mode": {
    "name": "ipython",
    "version": 3
   },
   "file_extension": ".py",
   "mimetype": "text/x-python",
   "name": "python",
   "nbconvert_exporter": "python",
   "pygments_lexer": "ipython3",
   "version": "3.7.8"
  }
 },
 "nbformat": 4,
 "nbformat_minor": 4
}
