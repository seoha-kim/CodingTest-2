{
 "cells": [
  {
   "cell_type": "markdown",
   "metadata": {},
   "source": [
    "### 기능 개발"
   ]
  },
  {
   "cell_type": "code",
   "execution_count": null,
   "metadata": {},
   "outputs": [],
   "source": [
    "def solution(progresses, speeds):\n",
    "    answer = []; s1 = 0; s2 = 1\n",
    "    while progresses != [100 for i in range(len(progresses))]:\n",
    "        progresses = [x+y if x+y<100 else 100 for x,y in zip(progresses,speeds)]\n",
    "        \n",
    "        if progresses[0] == 100:\n",
    "            while progresses[s1: s2] == [100 for i in range(s2-s1)]:\n",
    "                if s2 == len(progresses):\n",
    "                    answer.append(s2-s1)\n",
    "                    return answer\n",
    "                s2 += 1\n",
    "            if s1 != s2-1:\n",
    "                answer.append(s2-1-s1)\n",
    "                s1 = s2-1\n",
    "    \n",
    "    return answer"
   ]
  },
  {
   "cell_type": "code",
   "execution_count": null,
   "metadata": {},
   "outputs": [],
   "source": [
    "def solution(progresses, speeds):\n",
    "    answer = []; time = 0; count = 0\n",
    "    while len(progresses)> 0:\n",
    "        if (progresses[0] + time*speeds[0]) >= 100:\n",
    "            progresses.pop(0)\n",
    "            speeds.pop(0)\n",
    "            count += 1\n",
    "        else:\n",
    "            if count > 0:\n",
    "                answer.append(count)\n",
    "                count = 0\n",
    "            time += 1\n",
    "    answer.append(count)\n",
    "    return answer"
   ]
  },
  {
   "cell_type": "markdown",
   "metadata": {},
   "source": [
    "### 더 맵게"
   ]
  },
  {
   "cell_type": "code",
   "execution_count": null,
   "metadata": {},
   "outputs": [],
   "source": [
    "def solution(scoville, K):\n",
    "    import heapq\n",
    "    answer = 0; heap = []\n",
    "\n",
    "    for x in scoville:\n",
    "        heapq.heappush(heap, x)\n",
    "    \n",
    "    while heap[0] < K:\n",
    "        if len(heap) <= 1:\n",
    "            return -1\n",
    "        min1=heapq.heappop(heap); min2=heapq.heappop(heap)\n",
    "        heapq.heappush(heap, min1+min2*2)\n",
    "        answer += 1\n",
    "    return answer"
   ]
  },
  {
   "cell_type": "code",
   "execution_count": null,
   "metadata": {},
   "outputs": [],
   "source": []
  }
 ],
 "metadata": {
  "kernelspec": {
   "display_name": "Python 3",
   "language": "python",
   "name": "python3"
  },
  "language_info": {
   "codemirror_mode": {
    "name": "ipython",
    "version": 3
   },
   "file_extension": ".py",
   "mimetype": "text/x-python",
   "name": "python",
   "nbconvert_exporter": "python",
   "pygments_lexer": "ipython3",
   "version": "3.7.8"
  }
 },
 "nbformat": 4,
 "nbformat_minor": 4
}
