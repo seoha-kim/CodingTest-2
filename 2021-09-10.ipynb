{
 "cells": [
  {
   "cell_type": "markdown",
   "metadata": {},
   "source": [
    "### 로또의 최고 순위와 최저 순위"
   ]
  },
  {
   "cell_type": "code",
   "execution_count": null,
   "metadata": {},
   "outputs": [],
   "source": [
    "# My Answer\n",
    "def solution(lottos, win_nums):\n",
    "    correct = 0; zeros = 0\n",
    "    for num in lottos:\n",
    "        if num in win_nums:\n",
    "            correct += 1\n",
    "\n",
    "        if num == 0:\n",
    "            zeros += 1\n",
    "\n",
    "    high = 7 - (correct+zeros) if correct >= 1 else 6\n",
    "    low = 7 - correct if correct>=1 else 6\n",
    "    answer = [high, low]\n",
    "    return answer"
   ]
  },
  {
   "cell_type": "code",
   "execution_count": null,
   "metadata": {},
   "outputs": [],
   "source": [
    "# Others\n",
    "def solution(lottos, win_nums):\n",
    "    rank = [6,6,5,4,3,2,1]\n",
    "    cnt_0 = lottos.count(0)\n",
    "    ans = 0\n",
    "    for x in win_nums:\n",
    "        if x in lottos:\n",
    "            anw +=1\n",
    "    return rank[cnt_0 + ans],rank[ans]"
   ]
  },
  {
   "cell_type": "code",
   "execution_count": null,
   "metadata": {},
   "outputs": [],
   "source": [
    "# Others\n",
    "def solution(lottos, win_nums):\n",
    "    rank = {\n",
    "        0: 6,\n",
    "        1: 6,\n",
    "        2: 5,\n",
    "        3: 4,\n",
    "        4: 3,\n",
    "        5: 2,\n",
    "        6: 1\n",
    "    }\n",
    "    return [rank[len(set(lottos) & set(win_nums)) + lottos.count(0)], rank[len(set(lottos) & set(win_nums))]]"
   ]
  },
  {
   "cell_type": "markdown",
   "metadata": {},
   "source": [
    "### 신규 아이디 추천"
   ]
  },
  {
   "cell_type": "code",
   "execution_count": null,
   "metadata": {},
   "outputs": [],
   "source": [
    "def solution(new_id):\n",
    "    char = [x for x in '~!@#$%^&*()=+[{]}:?,<>/']\n",
    "    answer = ''.join([x for x in new_id.lower() if x not in char])\n",
    "    while '..' in answer:\n",
    "        answer = answer.replace('..', '.')\n",
    "    answer = answer.lstrip('.').rstrip('.')\n",
    "    if answer == '': \n",
    "        answer = 'a'\n",
    "    if len(answer) > 15: \n",
    "        answer = answer[:15].rstrip('.')\n",
    "    while len(answer) <= 2:\n",
    "        answer += answer[-1]\n",
    "    return answer"
   ]
  },
  {
   "cell_type": "code",
   "execution_count": null,
   "metadata": {},
   "outputs": [],
   "source": [
    "def solution(new_id):\n",
    "    answer = ''\n",
    "    # 1\n",
    "    new_id = new_id.lower()\n",
    "    # 2\n",
    "    for c in new_id:\n",
    "        if c.isalpha() or c.isdigit() or c in ['-', '_', '.']:\n",
    "            answer += c\n",
    "    # 3\n",
    "    while '..' in answer:\n",
    "        answer = answer.replace('..', '.')\n",
    "    # 4\n",
    "    if answer[0] == '.':\n",
    "        answer = answer[1:] if len(answer) > 1 else '.'\n",
    "    if answer[-1] == '.':\n",
    "        answer = answer[:-1]\n",
    "    # 5\n",
    "    if answer == '':\n",
    "        answer = 'a'\n",
    "    # 6\n",
    "    if len(answer) > 15:\n",
    "        answer = answer[:15]\n",
    "        if answer[-1] == '.':\n",
    "            answer = answer[:-1]\n",
    "    # 7\n",
    "    while len(answer) < 3:\n",
    "        answer += answer[-1]\n",
    "    return answer"
   ]
  },
  {
   "cell_type": "markdown",
   "metadata": {},
   "source": [
    "### K번째 약수"
   ]
  },
  {
   "cell_type": "code",
   "execution_count": null,
   "metadata": {},
   "outputs": [],
   "source": [
    "for i in range(1,n+1b):\n",
    "    li = []\n",
    "    if n % i == 0:\n",
    "        li.append(i)\n",
    "    sol = li[k] if len(li)>=k else -1 \n",
    "    print(sol)"
   ]
  },
  {
   "cell_type": "code",
   "execution_count": null,
   "metadata": {},
   "outputs": [],
   "source": [
    "for i in range(1, n+1):\n",
    "    if n%i == 0:\n",
    "        cnt+=1\n",
    "    if cnt==k:\n",
    "        print(i)\n",
    "        break\n",
    "else:\n",
    "    print(-1)"
   ]
  },
  {
   "cell_type": "markdown",
   "metadata": {},
   "source": [
    "### K번째 수"
   ]
  },
  {
   "cell_type": "code",
   "execution_count": null,
   "metadata": {},
   "outputs": [],
   "source": [
    "li[s-1:e].sort()[k-1]\n"
   ]
  },
  {
   "cell_type": "markdown",
   "metadata": {},
   "source": [
    "### K번째 큰 수"
   ]
  },
  {
   "cell_type": "code",
   "execution_count": null,
   "metadata": {},
   "outputs": [],
   "source": [
    "li = li.sort()\n",
    "res = set()\n",
    "for i in range(n):\n",
    "    for j in range(i+1,n):\n",
    "        for m in range(j+1, n):\n",
    "            res.add(li[i]+li[j]+li[m])\n",
    "            \n",
    "res = list(res).sort(reverse=True)[k-1]"
   ]
  }
 ],
 "metadata": {
  "kernelspec": {
   "display_name": "Python 3",
   "language": "python",
   "name": "python3"
  },
  "language_info": {
   "codemirror_mode": {
    "name": "ipython",
    "version": 3
   },
   "file_extension": ".py",
   "mimetype": "text/x-python",
   "name": "python",
   "nbconvert_exporter": "python",
   "pygments_lexer": "ipython3",
   "version": "3.7.8"
  }
 },
 "nbformat": 4,
 "nbformat_minor": 4
}
