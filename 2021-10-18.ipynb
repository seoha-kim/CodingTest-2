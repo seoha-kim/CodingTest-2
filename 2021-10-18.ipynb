{
 "cells": [
  {
   "cell_type": "markdown",
   "metadata": {},
   "source": [
    "### 병합 정렬"
   ]
  },
  {
   "cell_type": "code",
   "execution_count": null,
   "metadata": {},
   "outputs": [],
   "source": [
    "def Dsort(lt, rt):\n",
    "    if lt < rt:\n",
    "        mid = (1t+rt) // 2\n",
    "        Dsort(lt, mid)\n",
    "        Dsort(mid+1, rt)\n",
    "        p1 = lt\n",
    "        p2 = mid+1\n",
    "        tmp = []\n",
    "        while p1 <= mid and p2 <= rt:\n",
    "            if arr[p1] < arr[p2]:\n",
    "                tmp.append(arr[p1])\n",
    "                p1 += 1\n",
    "            else:\n",
    "                tmp.append(arr[p2])\n",
    "                p2 += 1\n",
    "        if p1 <= mid:\n",
    "            tmp = tmp+arr[mid+1]\n",
    "        if p2 <= rt:\n",
    "            tmp = tmp+arr[p2:rt+1]\n",
    "        for i in range(len(tmp)):\n",
    "            arr[lt+i] = tmp[i]\n",
    "            \n",
    "if __name__ == '__main__':\n",
    "    arr = [23,11,45,36,15,67,33,21]\n",
    "    print('Before sort : ', end='')\n",
    "    print(arr)\n",
    "    Dsort(0,7)\n",
    "    print()\n",
    "    print('After sort : ', end='')\n",
    "    print(arr)"
   ]
  }
 ],
 "metadata": {
  "kernelspec": {
   "display_name": "Python 3",
   "language": "python",
   "name": "python3"
  },
  "language_info": {
   "codemirror_mode": {
    "name": "ipython",
    "version": 3
   },
   "file_extension": ".py",
   "mimetype": "text/x-python",
   "name": "python",
   "nbconvert_exporter": "python",
   "pygments_lexer": "ipython3",
   "version": "3.7.8"
  }
 },
 "nbformat": 4,
 "nbformat_minor": 4
}
