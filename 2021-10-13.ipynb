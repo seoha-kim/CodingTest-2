{
 "cells": [
  {
   "cell_type": "markdown",
   "metadata": {},
   "source": [
    "### 동전 분배 하기 ⭐️"
   ]
  },
  {
   "cell_type": "code",
   "execution_count": null,
   "metadata": {},
   "outputs": [],
   "source": [
    "def DFS(L):\n",
    "    global res\n",
    "    if L == n:\n",
    "        cha = max(money) - min(money)\n",
    "        if cha < res:\n",
    "            tmp = set()\n",
    "            for x in money:\n",
    "                tmp.add(x)\n",
    "            if len(tmp)==3:\n",
    "                res = tmp\n",
    "    else:\n",
    "        for i in range(3):\n",
    "            money[i] += coin[L]\n",
    "            DFS(L+1)\n",
    "            money[i] -= coin[L]\n",
    "    \n",
    "if __name__ == \"__main__\":\n",
    "    n = int(input())\n",
    "    coin = []\n",
    "    money = [0]*3\n",
    "    res = 9999\n",
    "    for _ in range(n):\n",
    "        coin.append(int(input())\n",
    "    DFS(0)\n",
    "    print(res)"
   ]
  },
  {
   "cell_type": "markdown",
   "metadata": {},
   "source": [
    "### 알파코드 ⭐️"
   ]
  },
  {
   "cell_type": "code",
   "execution_count": null,
   "metadata": {},
   "outputs": [],
   "source": [
    "def DFS(L, P):\n",
    "    global cnt\n",
    "    if L == n:\n",
    "        cnt += 1\n",
    "        for j in range(P):\n",
    "            print(chr(res[j]+64))\n",
    "        print()\n",
    "    else:\n",
    "        for i in range(1,27):\n",
    "            if code[L]==i:\n",
    "                res[P]=i\n",
    "                DFS(L+1, P+1)\n",
    "            elif i >= 10 and code[L] == i//10 and code[L+1] == i%10:\n",
    "                res[P] = i\n",
    "                DFS(L+2, p+1)\n",
    "\n",
    "if __name__ == '__main__':\n",
    "    code = list(map(int, input()))\n",
    "    n = len(code)\n",
    "    code.insert(n, -1)\n",
    "    res = [0]*(n+3)\n",
    "    cnt = 0\n",
    "    DFS(0, 0)\n",
    "    print(cnt)"
   ]
  },
  {
   "cell_type": "markdown",
   "metadata": {},
   "source": [
    "### 송아지 탐색 ⭐️"
   ]
  },
  {
   "cell_type": "code",
   "execution_count": null,
   "metadata": {},
   "outputs": [],
   "source": [
    "from collections import deque\n",
    "\n",
    "MAX = 10000\n",
    "ch = [0] * (MAX+1)\n",
    "dis = [0] * (MAX+1)\n",
    "n, m = map(int, input().split())\n",
    "ch[n]=1\n",
    "dis[n]=0\n",
    "dq = deque\n",
    "dq.append(n)\n",
    "while dq:\n",
    "    now=dq.popleft()\n",
    "    if now == n:\n",
    "        break\n",
    "        \n",
    "    for next in (now-1, now+1, now+5):\n",
    "        if 0<next<=MAX:\n",
    "            if ch[next] == 0:\n",
    "                dq.append(next)\n",
    "                ch[next] = 1\n",
    "                dis[next] = dis[now]+1\n",
    "print(dis[m])"
   ]
  },
  {
   "cell_type": "markdown",
   "metadata": {},
   "source": [
    "### 사과나무 ⭐️"
   ]
  },
  {
   "cell_type": "code",
   "execution_count": null,
   "metadata": {},
   "outputs": [],
   "source": [
    "import sys\n",
    "from collections import deque\n",
    "\n",
    "dx = [-1, 0, 1, 0]\n",
    "dy = [0, 1, 0, -1]\n",
    "n = int(input())\n",
    "a = [list(map(int, input().split())) for _ in range(n)]\n",
    "ch = [[0]*n for _ in range(n)]\n",
    "sum = 0\n",
    "Q = deque()\n",
    "ch[n//2][n//2]=1\n",
    "sum += a[n//2][n//2]\n",
    "Q.append((n//2, n//2))\n",
    "L = 0\n",
    "while True:\n",
    "    if L==n//2:\n",
    "        break\n",
    "    size=len(Q)\n",
    "    for i in range(size):\n",
    "        tmp = Q.popleft()\n",
    "        for j in range(4):\n",
    "            x = tmp[0] + dx[j]\n",
    "            y = tmp[1] + dy[j]\n",
    "            if ch[x][y] == 0:\n",
    "                sum += A[x][y]\n",
    "                ch[x][y] = 1\n",
    "                Q.append((x,y))\n",
    "    L+=1\n",
    "print(sum)"
   ]
  }
 ],
 "metadata": {
  "kernelspec": {
   "display_name": "Python 3",
   "language": "python",
   "name": "python3"
  },
  "language_info": {
   "codemirror_mode": {
    "name": "ipython",
    "version": 3
   },
   "file_extension": ".py",
   "mimetype": "text/x-python",
   "name": "python",
   "nbconvert_exporter": "python",
   "pygments_lexer": "ipython3",
   "version": "3.7.8"
  }
 },
 "nbformat": 4,
 "nbformat_minor": 4
}
