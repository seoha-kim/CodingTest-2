{
 "cells": [
  {
   "cell_type": "markdown",
   "metadata": {},
   "source": [
    "### 문자열 압축"
   ]
  },
  {
   "cell_type": "code",
   "execution_count": null,
   "metadata": {},
   "outputs": [],
   "source": [
    "def calculate(n, s):\n",
    "    cnt = 1; result = ''\n",
    "    for i in range(0, len(s), n):\n",
    "        if i == len(s)-n:\n",
    "            result += str(cnt)+s[i:i+n] if cnt > 1 else s[i:i+n]\n",
    "            break\n",
    "        else:\n",
    "            if s[i:i+n] == s[i+n:i+2*n]:\n",
    "                cnt += 1\n",
    "            else:\n",
    "                result += str(cnt)+s[i:i+n] if cnt > 1 else s[i:i+n]\n",
    "                cnt = 1\n",
    "    return result\n",
    "            \n",
    "\n",
    "def solution(s):\n",
    "    answer = float('inf')\n",
    "    for i in range(1,len(s)+1):\n",
    "        result = calculate(i, s)\n",
    "        if len(result) < answer:\n",
    "            answer = len(result)\n",
    "    return answer"
   ]
  },
  {
   "cell_type": "markdown",
   "metadata": {},
   "source": [
    "### 오픈 채팅방"
   ]
  },
  {
   "cell_type": "code",
   "execution_count": null,
   "metadata": {},
   "outputs": [],
   "source": [
    "def solution(record):\n",
    "    answer = []\n",
    "    uid_dic = {uid.split(' ')[1]:[] for uid in record}\n",
    "    for r in record:\n",
    "        if len(r.split(' ')) == 3:\n",
    "            uid_dic[r.split(' ')[1]].append(r.split(' ')[2])\n",
    "\n",
    "    for r in record:\n",
    "        nick = uid_dic[r.split(' ')[1]][-1]\n",
    "        if r.split(' ')[0] == 'Enter':\n",
    "            answer.append(f'{nick}님이 들어왔습니다.')\n",
    "        if r.split(' ')[0] == 'Leave':\n",
    "            answer.append(f'{nick}님이 나갔습니다.')\n",
    "    return answer"
   ]
  },
  {
   "cell_type": "code",
   "execution_count": null,
   "metadata": {},
   "outputs": [],
   "source": [
    "def solution(record):\n",
    "    answer = []\n",
    "    namespace = {}\n",
    "    printer = {'Enter':'님이 들어왔습니다.', 'Leave':'님이 나갔습니다.'}\n",
    "    for r in record:\n",
    "        rr = r.split(' ')\n",
    "        if rr[0] in ['Enter', 'Change']:\n",
    "            namespace[rr[1]] = rr[2]\n",
    "\n",
    "    for r in record:\n",
    "        if r.split(' ')[0] != 'Change':\n",
    "            answer.append(namespace[r.split(' ')[1]] + printer[r.split(' ')[0]])\n",
    "\n",
    "    return answer"
   ]
  },
  {
   "cell_type": "markdown",
   "metadata": {},
   "source": [
    "### 124 나라의 숫자"
   ]
  },
  {
   "cell_type": "code",
   "execution_count": null,
   "metadata": {},
   "outputs": [],
   "source": [
    "def solution(n):\n",
    "    if n <= 3:\n",
    "        return '124'[n-1]\n",
    "    else:\n",
    "        q,r = divmod(n-1,3)\n",
    "        return solution(q) + '124'[r]"
   ]
  },
  {
   "cell_type": "code",
   "execution_count": null,
   "metadata": {},
   "outputs": [],
   "source": [
    "def change124(n):\n",
    "    num = ['1','2','4']\n",
    "    answer = \"\"\n",
    "\n",
    "    while n > 0:\n",
    "        n -= 1\n",
    "        answer = num[n % 3] + answer\n",
    "        n //= 3\n",
    "\n",
    "    return answer"
   ]
  }
 ],
 "metadata": {
  "kernelspec": {
   "display_name": "Python 3",
   "language": "python",
   "name": "python3"
  },
  "language_info": {
   "codemirror_mode": {
    "name": "ipython",
    "version": 3
   },
   "file_extension": ".py",
   "mimetype": "text/x-python",
   "name": "python",
   "nbconvert_exporter": "python",
   "pygments_lexer": "ipython3",
   "version": "3.7.8"
  }
 },
 "nbformat": 4,
 "nbformat_minor": 4
}
