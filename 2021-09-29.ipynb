{
 "cells": [
  {
   "cell_type": "markdown",
   "metadata": {},
   "source": [
    "### 전화번호 목록"
   ]
  },
  {
   "cell_type": "code",
   "execution_count": null,
   "metadata": {},
   "outputs": [],
   "source": [
    "def solution(phone_book):\n",
    "    phone_book = sorted(phone_book, key=lambda x: [x, len(x)])\n",
    "    for i in range(1, len(phone_book)):\n",
    "        length = len(phone_book[i-1])\n",
    "        if phone_book[i-1][:length] == phone_book[i][:length]:\n",
    "            return False\n",
    "    return True"
   ]
  },
  {
   "cell_type": "markdown",
   "metadata": {},
   "source": [
    "### 위장"
   ]
  },
  {
   "cell_type": "code",
   "execution_count": null,
   "metadata": {},
   "outputs": [],
   "source": [
    "def solution(clothes):\n",
    "    categories = {c: [] for c in set([x[1] for x in clothes])}\n",
    "    for x in clothes:\n",
    "        categories[x[1]].append(x[0])\n",
    "\n",
    "    tmp = [len(x)+1 for x in categories.values()]; answer = 1\n",
    "    for x in tmp:\n",
    "        answer *= x\n",
    "\n",
    "    return answer - 1"
   ]
  },
  {
   "cell_type": "code",
   "execution_count": null,
   "metadata": {},
   "outputs": [],
   "source": [
    "def solution(clothes):\n",
    "    from collections import Counter\n",
    "    from functools import reduce\n",
    "    cnt = Counter([kind for name, kind in clothes])\n",
    "    answer = reduce(lambda x, y: x*(y+1), cnt.values(), 1) - 1\n",
    "    return answer"
   ]
  },
  {
   "cell_type": "markdown",
   "metadata": {},
   "source": [
    "### 베스트 앨범"
   ]
  },
  {
   "cell_type": "code",
   "execution_count": null,
   "metadata": {},
   "outputs": [],
   "source": [
    "def solution(genres, plays):\n",
    "\n",
    "    genres_dic = {g:[] for g in set(genres)}\n",
    "    for i, (g,p) in enumerate(zip(genres, plays)):\n",
    "        genres_dic[g].append([i, p])\n",
    "    for k, v in genres_dic.items():\n",
    "        genres_dic[k] = sorted(v, key=lambda x: x[1], reverse=True)\n",
    "        \n",
    "    genres_sum = {g:0 for g in set(genres)}\n",
    "    for g in genres_sum.keys():\n",
    "        genres_sum[g] = sum([play[1] for play in genres_dic[g]])\n",
    "    genres_sum = sorted(genres_sum.items(), key = lambda x: x[1], reverse=True)\n",
    "\n",
    "    answer = []\n",
    "    for genres, _ in genres_sum:\n",
    "        if len(genres_dic[genres]) == 1:\n",
    "            answer.append(genres_dic[genres][0][0])\n",
    "            continue\n",
    "        else:\n",
    "            answer.append(genres_dic[genres][0][0])\n",
    "            answer.append(genres_dic[genres][1][0])\n",
    "            continue\n",
    "    return answer"
   ]
  },
  {
   "cell_type": "code",
   "execution_count": null,
   "metadata": {},
   "outputs": [],
   "source": [
    "def solution(genres, plays):\n",
    "    answer = []\n",
    "    d = {e:[] for e in set(genres)}\n",
    "    for e in zip(genres, plays, range(len(plays))):\n",
    "        d[e[0]].append([e[1] , e[2]])\n",
    "    genreSort =sorted(list(d.keys()), key= lambda x: sum( map(lambda y: y[0],d[x])), reverse = True)\n",
    "    for g in genreSort:\n",
    "        temp = [e[1] for e in sorted(d[g],key= lambda x: (x[0], -x[1]), reverse = True)]\n",
    "        answer += temp[:min(len(temp),2)]\n",
    "    return answer"
   ]
  }
 ],
 "metadata": {
  "kernelspec": {
   "display_name": "Python 3",
   "language": "python",
   "name": "python3"
  },
  "language_info": {
   "codemirror_mode": {
    "name": "ipython",
    "version": 3
   },
   "file_extension": ".py",
   "mimetype": "text/x-python",
   "name": "python",
   "nbconvert_exporter": "python",
   "pygments_lexer": "ipython3",
   "version": "3.7.8"
  }
 },
 "nbformat": 4,
 "nbformat_minor": 4
}
